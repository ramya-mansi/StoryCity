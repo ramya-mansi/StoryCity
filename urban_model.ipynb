{
 "cells": [
  {
   "cell_type": "code",
   "execution_count": 39,
   "id": "8612412f",
   "metadata": {},
   "outputs": [
    {
     "name": "stdout",
     "output_type": "stream",
     "text": [
      "Collecting pyrubberband\n",
      "  Downloading pyrubberband-0.3.0.tar.gz (4.1 kB)\n",
      "  Preparing metadata (setup.py): started\n",
      "  Preparing metadata (setup.py): finished with status 'done'\n",
      "Requirement already satisfied: six in c:\\users\\ramya\\appdata\\local\\programs\\python\\python310\\lib\\site-packages (from pyrubberband) (1.16.0)\n",
      "Collecting pysoundfile>=0.8.0\n",
      "  Downloading PySoundFile-0.9.0.post1-py2.py3.cp26.cp27.cp32.cp33.cp34.cp35.cp36.pp27.pp32.pp33-none-win_amd64.whl (671 kB)\n",
      "     -------------------------------------- 671.8/671.8 kB 3.8 MB/s eta 0:00:00\n",
      "Requirement already satisfied: cffi>=0.6 in c:\\users\\ramya\\appdata\\local\\programs\\python\\python310\\lib\\site-packages (from pysoundfile>=0.8.0->pyrubberband) (1.15.1)\n",
      "Requirement already satisfied: pycparser in c:\\users\\ramya\\appdata\\local\\programs\\python\\python310\\lib\\site-packages (from cffi>=0.6->pysoundfile>=0.8.0->pyrubberband) (2.21)\n",
      "Building wheels for collected packages: pyrubberband\n",
      "  Building wheel for pyrubberband (setup.py): started\n",
      "  Building wheel for pyrubberband (setup.py): finished with status 'done'\n",
      "  Created wheel for pyrubberband: filename=pyrubberband-0.3.0-py3-none-any.whl size=4273 sha256=84a14a841f1bb8c4497633d5ed188ed838e383dce76cb2b81823b101aedcc7ca\n",
      "  Stored in directory: c:\\users\\ramya\\appdata\\local\\pip\\cache\\wheels\\b8\\2d\\f0\\bb68fbfe67a42c858a79412321d28589218cbfe114c48ce664\n",
      "Successfully built pyrubberband\n",
      "Installing collected packages: pysoundfile, pyrubberband\n",
      "Successfully installed pyrubberband-0.3.0 pysoundfile-0.9.0.post1\n"
     ]
    }
   ],
   "source": [
    "!pip install pyrubberband"
   ]
  },
  {
   "cell_type": "code",
   "execution_count": 3,
   "id": "c1bcdaff",
   "metadata": {},
   "outputs": [],
   "source": [
    "import glob\n",
    "import os\n",
    "import librosa\n",
    "import matplotlib.pyplot as plt\n",
    "import tensorflow as tf\n",
    "from sklearn.model_selection import KFold\n",
    "from sklearn.metrics import accuracy_score\n",
    "from tensorflow import keras\n",
    "import numpy as np\n",
    "import pandas as pd\n",
    "import librosa.display\n",
    "from tqdm import tqdm\n",
    "import pickle as pkl\n",
    "\n",
    "import random\n",
    "import matplotlib.pyplot as plt\n",
    "import seaborn as sns\n",
    "from IPython.display import clear_output, display\n",
    "\n",
    "import pyrubberband as pyrb\n",
    "import re\n",
    "import six\n",
    "from copy import deepcopy\n",
    "\n",
    "import keras\n",
    "import soundfile as sf\n",
    "from keras.utils import to_categorical\n",
    "from keras.models import Sequential\n",
    "from keras.layers import Dense, Dropout, Activation, Flatten\n",
    "from keras.layers import Convolution2D, MaxPooling2D\n",
    "from keras.optimizers import SGD, Adam\n",
    "from keras.callbacks import EarlyStopping\n",
    "from sklearn.metrics import precision_recall_fscore_support, roc_auc_score\n",
    "from keras.utils import np_utils\n",
    "from keras.regularizers import l2\n",
    "from keras import Sequential\n",
    "from keras.layers import Dense,Conv2D,MaxPooling2D,Flatten,Dropout\n",
    "from keras.utils.np_utils import to_categorical"
   ]
  },
  {
   "cell_type": "code",
   "execution_count": 4,
   "id": "cf3dabc2",
   "metadata": {},
   "outputs": [],
   "source": [
    "class DataGenerator(keras.utils.Sequence):\n",
    "    'Generates data for Keras'\n",
    "    def __init__(self, train_metadata, batch_size=32*4):\n",
    "        'Initialization'\n",
    "        self.batch_size = batch_size\n",
    "        self.train_metadata = train_metadata\n",
    "        self.dim = (36, 5)\n",
    "        self.on_epoch_end()\n",
    "\n",
    "    def __len__(self):\n",
    "        'Denotes the number of batches per epoch'\n",
    "        return int(np.floor((len(self.train_metadata)*4) / self.batch_size))\n",
    "\n",
    "    def __getitem__(self, index):\n",
    "        'Generate one batch of data'\n",
    "        # Generate indexes of the batch\n",
    "        indexes = self.indexes[index*self.batch_size:(index+1)*self.batch_size]\n",
    "\n",
    "        temp_metadata = []\n",
    "        for k in range(0, len(indexes), 4):\n",
    "          temp_metadata.append(self.train_metadata[indexes[k] // 4])\n",
    "\n",
    "        # Generate data\n",
    "        X, Y = self.__data_generation(temp_metadata)\n",
    "\n",
    "        return X, Y\n",
    "\n",
    "    def on_epoch_end(self):\n",
    "        'Updates indexes after each epoch'\n",
    "        self.indexes = np.arange(len(self.train_metadata))\n",
    "\n",
    "    def __data_generation(self, temp_metadata):\n",
    "        'Generates data containing batch_size samples' # X : (n_samples, *dim, n_channels)\n",
    "        # Initialization\n",
    "        X = np.empty((self.batch_size, *self.dim, 1))\n",
    "        Y = np.empty((self.batch_size), dtype=int)\n",
    "        idx = 0\n",
    "        \n",
    "        # Generate data\n",
    "        for id, data in enumerate(temp_metadata):\n",
    "            label = int(data[1])\n",
    "            sound_clip, sr = librosa.load(data[0])\n",
    "\n",
    "            original = standard_process(sound_clip)\n",
    "            \n",
    "            X[idx,] = original\n",
    "            Y[idx] = label\n",
    "            idx += 1\n",
    "\n",
    "            # time shifted\n",
    "            rates = [1.5]\n",
    "            for rate in rates:\n",
    "              time_stretched = time_stretching(rate, sound_clip)\n",
    "              X[idx,] = time_stretched\n",
    "              Y[idx] = label\n",
    "              idx += 1\n",
    "\n",
    "            # pitch shifted\n",
    "            tone_steps = [2]\n",
    "            for tone_step in tone_steps:\n",
    "              pitch_shifted = pitch_shifting(tone_step, sound_clip)\n",
    "              X[idx,] = pitch_shifted\n",
    "              Y[idx] = label\n",
    "              idx += 1\n",
    "            \n",
    "            # noise added\n",
    "            noisy_sound = add_noise(sound_clip)\n",
    "            X[idx,] = noisy_sound\n",
    "            Y[idx] = label\n",
    "            idx += 1\n",
    "\n",
    "        return X, to_categorical(Y, num_classes=10)"
   ]
  },
  {
   "cell_type": "code",
   "execution_count": 5,
   "id": "73412649",
   "metadata": {},
   "outputs": [],
   "source": [
    "def get_model():\n",
    "  #forming model\n",
    "  model=Sequential()\n",
    "\n",
    "  #adding layers and forming the model\n",
    "  model.add(Conv2D(64,kernel_size=5,strides=1,padding=\"Same\",activation=\"relu\",input_shape=(36, 5, 1)))\n",
    "  model.add(MaxPooling2D(padding=\"same\"))\n",
    "\n",
    "  model.add(Conv2D(128,kernel_size=5,strides=1,padding=\"same\",activation=\"relu\"))\n",
    "  model.add(MaxPooling2D(padding=\"same\"))\n",
    "  model.add(Dropout(0.3))\n",
    "\n",
    "  model.add(Flatten())\n",
    "\n",
    "  model.add(Dense(256,activation=\"relu\"))\n",
    "  model.add(Dropout(0.4))\n",
    "\n",
    "  model.add(Dense(512,activation=\"relu\"))\n",
    "  model.add(Dropout(0.4))\n",
    "\n",
    "  model.add(Dense(10,activation=\"softmax\"))\n",
    "\n",
    "  #compiling\n",
    "  model.compile(optimizer=\"adam\",loss=\"categorical_crossentropy\",metrics=[\"accuracy\"])\n",
    "\n",
    "  return model"
   ]
  },
  {
   "cell_type": "code",
   "execution_count": 6,
   "id": "035bb10f",
   "metadata": {},
   "outputs": [],
   "source": [
    "#extracting data from pkl files\n",
    "import pickle as pkl\n",
    "\n",
    "with open(\"x_data.pickle\",\"rb\") as f:\n",
    "  x_data = pkl.load(f)\n",
    "\n",
    "with open(\"y_label.pickle\",\"rb\") as f:\n",
    "  y_label = pkl.load(f)"
   ]
  },
  {
   "cell_type": "code",
   "execution_count": 10,
   "id": "bd0b8f6f",
   "metadata": {},
   "outputs": [
    {
     "data": {
      "text/plain": [
       "<keras.engine.sequential.Sequential at 0x12963953580>"
      ]
     },
     "execution_count": 10,
     "metadata": {},
     "output_type": "execute_result"
    }
   ],
   "source": [
    "get_model()"
   ]
  },
  {
   "cell_type": "code",
   "execution_count": null,
   "id": "2b8ad020",
   "metadata": {},
   "outputs": [],
   "source": []
  }
 ],
 "metadata": {
  "kernelspec": {
   "display_name": "Python 3 (ipykernel)",
   "language": "python",
   "name": "python3"
  },
  "language_info": {
   "codemirror_mode": {
    "name": "ipython",
    "version": 3
   },
   "file_extension": ".py",
   "mimetype": "text/x-python",
   "name": "python",
   "nbconvert_exporter": "python",
   "pygments_lexer": "ipython3",
   "version": "3.10.8"
  }
 },
 "nbformat": 4,
 "nbformat_minor": 5
}
