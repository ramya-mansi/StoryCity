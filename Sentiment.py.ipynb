{
 "cells": [
  {
   "cell_type": "code",
   "execution_count": 2,
   "id": "063527d6",
   "metadata": {},
   "outputs": [
    {
     "name": "stdout",
     "output_type": "stream",
     "text": [
      "Requirement already satisfied: gensim in c:\\users\\ramya\\appdata\\local\\programs\\python\\python310\\lib\\site-packages (4.3.1)\n",
      "Requirement already satisfied: numpy>=1.18.5 in c:\\users\\ramya\\appdata\\local\\programs\\python\\python310\\lib\\site-packages (from gensim) (1.22.4)\n",
      "Requirement already satisfied: scipy>=1.7.0 in c:\\users\\ramya\\appdata\\local\\programs\\python\\python310\\lib\\site-packages (from gensim) (1.10.1)\n",
      "Requirement already satisfied: smart-open>=1.8.1 in c:\\users\\ramya\\appdata\\local\\programs\\python\\python310\\lib\\site-packages (from gensim) (6.3.0)\n"
     ]
    }
   ],
   "source": [
    "!pip install gensim"
   ]
  },
  {
   "cell_type": "code",
   "execution_count": 3,
   "id": "f047d384",
   "metadata": {
    "scrolled": true
   },
   "outputs": [
    {
     "name": "stdout",
     "output_type": "stream",
     "text": [
      "Requirement already satisfied: spacy in c:\\users\\ramya\\appdata\\local\\programs\\python\\python310\\lib\\site-packages (3.5.1)\n",
      "Requirement already satisfied: numpy>=1.15.0 in c:\\users\\ramya\\appdata\\local\\programs\\python\\python310\\lib\\site-packages (from spacy) (1.22.4)\n",
      "Requirement already satisfied: pathy>=0.10.0 in c:\\users\\ramya\\appdata\\local\\programs\\python\\python310\\lib\\site-packages (from spacy) (0.10.1)\n",
      "Requirement already satisfied: smart-open<7.0.0,>=5.2.1 in c:\\users\\ramya\\appdata\\local\\programs\\python\\python310\\lib\\site-packages (from spacy) (6.3.0)\n",
      "Requirement already satisfied: wasabi<1.2.0,>=0.9.1 in c:\\users\\ramya\\appdata\\local\\programs\\python\\python310\\lib\\site-packages (from spacy) (1.1.1)\n",
      "Requirement already satisfied: langcodes<4.0.0,>=3.2.0 in c:\\users\\ramya\\appdata\\local\\programs\\python\\python310\\lib\\site-packages (from spacy) (3.3.0)\n",
      "Requirement already satisfied: cymem<2.1.0,>=2.0.2 in c:\\users\\ramya\\appdata\\local\\programs\\python\\python310\\lib\\site-packages (from spacy) (2.0.7)\n",
      "Requirement already satisfied: spacy-legacy<3.1.0,>=3.0.11 in c:\\users\\ramya\\appdata\\local\\programs\\python\\python310\\lib\\site-packages (from spacy) (3.0.12)\n",
      "Requirement already satisfied: srsly<3.0.0,>=2.4.3 in c:\\users\\ramya\\appdata\\local\\programs\\python\\python310\\lib\\site-packages (from spacy) (2.4.6)\n",
      "Requirement already satisfied: packaging>=20.0 in c:\\users\\ramya\\appdata\\local\\programs\\python\\python310\\lib\\site-packages (from spacy) (23.0)\n",
      "Requirement already satisfied: murmurhash<1.1.0,>=0.28.0 in c:\\users\\ramya\\appdata\\local\\programs\\python\\python310\\lib\\site-packages (from spacy) (1.0.9)\n",
      "Requirement already satisfied: setuptools in c:\\users\\ramya\\appdata\\local\\programs\\python\\python310\\lib\\site-packages (from spacy) (63.2.0)\n",
      "Requirement already satisfied: spacy-loggers<2.0.0,>=1.0.0 in c:\\users\\ramya\\appdata\\local\\programs\\python\\python310\\lib\\site-packages (from spacy) (1.0.4)\n",
      "Requirement already satisfied: requests<3.0.0,>=2.13.0 in c:\\users\\ramya\\appdata\\local\\programs\\python\\python310\\lib\\site-packages (from spacy) (2.28.1)\n",
      "Requirement already satisfied: catalogue<2.1.0,>=2.0.6 in c:\\users\\ramya\\appdata\\local\\programs\\python\\python310\\lib\\site-packages (from spacy) (2.0.8)\n",
      "Requirement already satisfied: tqdm<5.0.0,>=4.38.0 in c:\\users\\ramya\\appdata\\local\\programs\\python\\python310\\lib\\site-packages (from spacy) (4.65.0)\n",
      "Requirement already satisfied: preshed<3.1.0,>=3.0.2 in c:\\users\\ramya\\appdata\\local\\programs\\python\\python310\\lib\\site-packages (from spacy) (3.0.8)\n",
      "Requirement already satisfied: jinja2 in c:\\users\\ramya\\appdata\\local\\programs\\python\\python310\\lib\\site-packages (from spacy) (3.1.2)\n",
      "Requirement already satisfied: pydantic!=1.8,!=1.8.1,<1.11.0,>=1.7.4 in c:\\users\\ramya\\appdata\\local\\programs\\python\\python310\\lib\\site-packages (from spacy) (1.10.7)\n",
      "Requirement already satisfied: thinc<8.2.0,>=8.1.8 in c:\\users\\ramya\\appdata\\local\\programs\\python\\python310\\lib\\site-packages (from spacy) (8.1.9)\n",
      "Requirement already satisfied: typer<0.8.0,>=0.3.0 in c:\\users\\ramya\\appdata\\local\\programs\\python\\python310\\lib\\site-packages (from spacy) (0.3.2)\n",
      "Requirement already satisfied: typing-extensions>=4.2.0 in c:\\users\\ramya\\appdata\\local\\programs\\python\\python310\\lib\\site-packages (from pydantic!=1.8,!=1.8.1,<1.11.0,>=1.7.4->spacy) (4.5.0)\n",
      "Requirement already satisfied: certifi>=2017.4.17 in c:\\users\\ramya\\appdata\\local\\programs\\python\\python310\\lib\\site-packages (from requests<3.0.0,>=2.13.0->spacy) (2022.9.24)\n",
      "Requirement already satisfied: charset-normalizer<3,>=2 in c:\\users\\ramya\\appdata\\local\\programs\\python\\python310\\lib\\site-packages (from requests<3.0.0,>=2.13.0->spacy) (2.1.1)\n",
      "Requirement already satisfied: idna<4,>=2.5 in c:\\users\\ramya\\appdata\\local\\programs\\python\\python310\\lib\\site-packages (from requests<3.0.0,>=2.13.0->spacy) (3.4)\n",
      "Requirement already satisfied: urllib3<1.27,>=1.21.1 in c:\\users\\ramya\\appdata\\local\\programs\\python\\python310\\lib\\site-packages (from requests<3.0.0,>=2.13.0->spacy) (1.26.13)\n",
      "Requirement already satisfied: confection<1.0.0,>=0.0.1 in c:\\users\\ramya\\appdata\\local\\programs\\python\\python310\\lib\\site-packages (from thinc<8.2.0,>=8.1.8->spacy) (0.0.4)\n",
      "Requirement already satisfied: blis<0.8.0,>=0.7.8 in c:\\users\\ramya\\appdata\\local\\programs\\python\\python310\\lib\\site-packages (from thinc<8.2.0,>=8.1.8->spacy) (0.7.9)\n",
      "Requirement already satisfied: colorama in c:\\users\\ramya\\appdata\\local\\programs\\python\\python310\\lib\\site-packages (from tqdm<5.0.0,>=4.38.0->spacy) (0.4.6)\n",
      "Requirement already satisfied: click<7.2.0,>=7.1.1 in c:\\users\\ramya\\appdata\\local\\programs\\python\\python310\\lib\\site-packages (from typer<0.8.0,>=0.3.0->spacy) (7.1.2)\n",
      "Requirement already satisfied: MarkupSafe>=2.0 in c:\\users\\ramya\\appdata\\local\\programs\\python\\python310\\lib\\site-packages (from jinja2->spacy) (2.1.1)\n"
     ]
    }
   ],
   "source": [
    "!pip install spacy"
   ]
  },
  {
   "cell_type": "code",
   "execution_count": 4,
   "id": "ad613557",
   "metadata": {},
   "outputs": [
    {
     "name": "stdout",
     "output_type": "stream",
     "text": [
      "Requirement already satisfied: seaborn in c:\\users\\ramya\\appdata\\local\\programs\\python\\python310\\lib\\site-packages (0.12.2)\n",
      "Requirement already satisfied: pandas>=0.25 in c:\\users\\ramya\\appdata\\local\\programs\\python\\python310\\lib\\site-packages (from seaborn) (1.5.2)\n",
      "Requirement already satisfied: matplotlib!=3.6.1,>=3.1 in c:\\users\\ramya\\appdata\\local\\programs\\python\\python310\\lib\\site-packages (from seaborn) (3.6.2)\n",
      "Requirement already satisfied: numpy!=1.24.0,>=1.17 in c:\\users\\ramya\\appdata\\local\\programs\\python\\python310\\lib\\site-packages (from seaborn) (1.22.4)\n",
      "Requirement already satisfied: cycler>=0.10 in c:\\users\\ramya\\appdata\\local\\programs\\python\\python310\\lib\\site-packages (from matplotlib!=3.6.1,>=3.1->seaborn) (0.11.0)\n",
      "Requirement already satisfied: pillow>=6.2.0 in c:\\users\\ramya\\appdata\\local\\programs\\python\\python310\\lib\\site-packages (from matplotlib!=3.6.1,>=3.1->seaborn) (9.3.0)\n",
      "Requirement already satisfied: kiwisolver>=1.0.1 in c:\\users\\ramya\\appdata\\local\\programs\\python\\python310\\lib\\site-packages (from matplotlib!=3.6.1,>=3.1->seaborn) (1.4.4)\n",
      "Requirement already satisfied: pyparsing>=2.2.1 in c:\\users\\ramya\\appdata\\local\\programs\\python\\python310\\lib\\site-packages (from matplotlib!=3.6.1,>=3.1->seaborn) (3.0.9)\n",
      "Requirement already satisfied: python-dateutil>=2.7 in c:\\users\\ramya\\appdata\\local\\programs\\python\\python310\\lib\\site-packages (from matplotlib!=3.6.1,>=3.1->seaborn) (2.8.2)\n",
      "Requirement already satisfied: fonttools>=4.22.0 in c:\\users\\ramya\\appdata\\local\\programs\\python\\python310\\lib\\site-packages (from matplotlib!=3.6.1,>=3.1->seaborn) (4.38.0)\n",
      "Requirement already satisfied: packaging>=20.0 in c:\\users\\ramya\\appdata\\local\\programs\\python\\python310\\lib\\site-packages (from matplotlib!=3.6.1,>=3.1->seaborn) (23.0)\n",
      "Requirement already satisfied: contourpy>=1.0.1 in c:\\users\\ramya\\appdata\\local\\programs\\python\\python310\\lib\\site-packages (from matplotlib!=3.6.1,>=3.1->seaborn) (1.0.6)\n",
      "Requirement already satisfied: pytz>=2020.1 in c:\\users\\ramya\\appdata\\local\\programs\\python\\python310\\lib\\site-packages (from pandas>=0.25->seaborn) (2022.6)\n",
      "Requirement already satisfied: six>=1.5 in c:\\users\\ramya\\appdata\\local\\programs\\python\\python310\\lib\\site-packages (from python-dateutil>=2.7->matplotlib!=3.6.1,>=3.1->seaborn) (1.16.0)\n",
      "Requirement already satisfied: keras in c:\\users\\ramya\\appdata\\local\\programs\\python\\python310\\lib\\site-packages (2.11.0)\n"
     ]
    }
   ],
   "source": [
    "!pip install seaborn\n",
    "!pip install keras"
   ]
  },
  {
   "cell_type": "code",
   "execution_count": 5,
   "id": "1d00faf1",
   "metadata": {},
   "outputs": [
    {
     "name": "stdout",
     "output_type": "stream",
     "text": [
      "Done\n"
     ]
    }
   ],
   "source": [
    "import re\n",
    "import matplotlib.pyplot as plt\n",
    "import string\n",
    "from nltk.corpus import stopwords\n",
    "import nltk\n",
    "from nltk.corpus import wordnet\n",
    "from nltk.stem import WordNetLemmatizer\n",
    "from nltk.tokenize.treebank import TreebankWordDetokenizer\n",
    "from collections import Counter\n",
    "from wordcloud import WordCloud\n",
    "from nltk.corpus import stopwords\n",
    "import nltk\n",
    "from gensim.utils import simple_preprocess\n",
    "from nltk.corpus import stopwords\n",
    "import gensim\n",
    "from sklearn.model_selection import train_test_split\n",
    "import spacy\n",
    "import pickle\n",
    "import warnings\n",
    "warnings.filterwarnings('ignore')\n",
    "import seaborn as sns\n",
    "from sklearn.metrics import confusion_matrix\n",
    "import matplotlib.pyplot as plt \n",
    "import tensorflow as tf\n",
    "import keras\n",
    "import numpy as np\n",
    "import pandas as pd\n",
    "print('Done')"
   ]
  },
  {
   "cell_type": "code",
   "execution_count": 6,
   "id": "d94f261b",
   "metadata": {},
   "outputs": [],
   "source": [
    "train = pd.read_csv('C:/Users/ramya/OneDrive/Desktop/Projects/train.csv')"
   ]
  },
  {
   "cell_type": "code",
   "execution_count": 7,
   "id": "991f7602",
   "metadata": {},
   "outputs": [
    {
     "data": {
      "text/html": [
       "<div>\n",
       "<style scoped>\n",
       "    .dataframe tbody tr th:only-of-type {\n",
       "        vertical-align: middle;\n",
       "    }\n",
       "\n",
       "    .dataframe tbody tr th {\n",
       "        vertical-align: top;\n",
       "    }\n",
       "\n",
       "    .dataframe thead th {\n",
       "        text-align: right;\n",
       "    }\n",
       "</style>\n",
       "<table border=\"1\" class=\"dataframe\">\n",
       "  <thead>\n",
       "    <tr style=\"text-align: right;\">\n",
       "      <th></th>\n",
       "      <th>textID</th>\n",
       "      <th>text</th>\n",
       "      <th>selected_text</th>\n",
       "      <th>sentiment</th>\n",
       "    </tr>\n",
       "  </thead>\n",
       "  <tbody>\n",
       "    <tr>\n",
       "      <th>0</th>\n",
       "      <td>cb774db0d1</td>\n",
       "      <td>I`d have responded, if I were going</td>\n",
       "      <td>I`d have responded, if I were going</td>\n",
       "      <td>neutral</td>\n",
       "    </tr>\n",
       "    <tr>\n",
       "      <th>1</th>\n",
       "      <td>549e992a42</td>\n",
       "      <td>Sooo SAD I will miss you here in San Diego!!!</td>\n",
       "      <td>Sooo SAD</td>\n",
       "      <td>negative</td>\n",
       "    </tr>\n",
       "    <tr>\n",
       "      <th>2</th>\n",
       "      <td>088c60f138</td>\n",
       "      <td>my boss is bullying me...</td>\n",
       "      <td>bullying me</td>\n",
       "      <td>negative</td>\n",
       "    </tr>\n",
       "    <tr>\n",
       "      <th>3</th>\n",
       "      <td>9642c003ef</td>\n",
       "      <td>what interview! leave me alone</td>\n",
       "      <td>leave me alone</td>\n",
       "      <td>negative</td>\n",
       "    </tr>\n",
       "    <tr>\n",
       "      <th>4</th>\n",
       "      <td>358bd9e861</td>\n",
       "      <td>Sons of ****, why couldn`t they put them on t...</td>\n",
       "      <td>Sons of ****,</td>\n",
       "      <td>negative</td>\n",
       "    </tr>\n",
       "    <tr>\n",
       "      <th>5</th>\n",
       "      <td>28b57f3990</td>\n",
       "      <td>http://www.dothebouncy.com/smf - some shameles...</td>\n",
       "      <td>http://www.dothebouncy.com/smf - some shameles...</td>\n",
       "      <td>neutral</td>\n",
       "    </tr>\n",
       "    <tr>\n",
       "      <th>6</th>\n",
       "      <td>6e0c6d75b1</td>\n",
       "      <td>2am feedings for the baby are fun when he is a...</td>\n",
       "      <td>fun</td>\n",
       "      <td>positive</td>\n",
       "    </tr>\n",
       "    <tr>\n",
       "      <th>7</th>\n",
       "      <td>50e14c0bb8</td>\n",
       "      <td>Soooo high</td>\n",
       "      <td>Soooo high</td>\n",
       "      <td>neutral</td>\n",
       "    </tr>\n",
       "    <tr>\n",
       "      <th>8</th>\n",
       "      <td>e050245fbd</td>\n",
       "      <td>Both of you</td>\n",
       "      <td>Both of you</td>\n",
       "      <td>neutral</td>\n",
       "    </tr>\n",
       "    <tr>\n",
       "      <th>9</th>\n",
       "      <td>fc2cbefa9d</td>\n",
       "      <td>Journey!? Wow... u just became cooler.  hehe....</td>\n",
       "      <td>Wow... u just became cooler.</td>\n",
       "      <td>positive</td>\n",
       "    </tr>\n",
       "    <tr>\n",
       "      <th>10</th>\n",
       "      <td>2339a9b08b</td>\n",
       "      <td>as much as i love to be hopeful, i reckon the...</td>\n",
       "      <td>as much as i love to be hopeful, i reckon the ...</td>\n",
       "      <td>neutral</td>\n",
       "    </tr>\n",
       "    <tr>\n",
       "      <th>11</th>\n",
       "      <td>16fab9f95b</td>\n",
       "      <td>I really really like the song Love Story by Ta...</td>\n",
       "      <td>like</td>\n",
       "      <td>positive</td>\n",
       "    </tr>\n",
       "    <tr>\n",
       "      <th>12</th>\n",
       "      <td>74a76f6e0a</td>\n",
       "      <td>My Sharpie is running DANGERously low on ink</td>\n",
       "      <td>DANGERously</td>\n",
       "      <td>negative</td>\n",
       "    </tr>\n",
       "    <tr>\n",
       "      <th>13</th>\n",
       "      <td>04dd1d2e34</td>\n",
       "      <td>i want to go to music tonight but i lost my vo...</td>\n",
       "      <td>lost</td>\n",
       "      <td>negative</td>\n",
       "    </tr>\n",
       "    <tr>\n",
       "      <th>14</th>\n",
       "      <td>bbe3cbf620</td>\n",
       "      <td>test test from the LG enV2</td>\n",
       "      <td>test test from the LG enV2</td>\n",
       "      <td>neutral</td>\n",
       "    </tr>\n",
       "  </tbody>\n",
       "</table>\n",
       "</div>"
      ],
      "text/plain": [
       "        textID                                               text  \\\n",
       "0   cb774db0d1                I`d have responded, if I were going   \n",
       "1   549e992a42      Sooo SAD I will miss you here in San Diego!!!   \n",
       "2   088c60f138                          my boss is bullying me...   \n",
       "3   9642c003ef                     what interview! leave me alone   \n",
       "4   358bd9e861   Sons of ****, why couldn`t they put them on t...   \n",
       "5   28b57f3990  http://www.dothebouncy.com/smf - some shameles...   \n",
       "6   6e0c6d75b1  2am feedings for the baby are fun when he is a...   \n",
       "7   50e14c0bb8                                         Soooo high   \n",
       "8   e050245fbd                                        Both of you   \n",
       "9   fc2cbefa9d   Journey!? Wow... u just became cooler.  hehe....   \n",
       "10  2339a9b08b   as much as i love to be hopeful, i reckon the...   \n",
       "11  16fab9f95b  I really really like the song Love Story by Ta...   \n",
       "12  74a76f6e0a       My Sharpie is running DANGERously low on ink   \n",
       "13  04dd1d2e34  i want to go to music tonight but i lost my vo...   \n",
       "14  bbe3cbf620                         test test from the LG enV2   \n",
       "\n",
       "                                        selected_text sentiment  \n",
       "0                 I`d have responded, if I were going   neutral  \n",
       "1                                            Sooo SAD  negative  \n",
       "2                                         bullying me  negative  \n",
       "3                                      leave me alone  negative  \n",
       "4                                       Sons of ****,  negative  \n",
       "5   http://www.dothebouncy.com/smf - some shameles...   neutral  \n",
       "6                                                 fun  positive  \n",
       "7                                          Soooo high   neutral  \n",
       "8                                         Both of you   neutral  \n",
       "9                        Wow... u just became cooler.  positive  \n",
       "10  as much as i love to be hopeful, i reckon the ...   neutral  \n",
       "11                                               like  positive  \n",
       "12                                        DANGERously  negative  \n",
       "13                                               lost  negative  \n",
       "14                         test test from the LG enV2   neutral  "
      ]
     },
     "execution_count": 7,
     "metadata": {},
     "output_type": "execute_result"
    }
   ],
   "source": [
    "train.head(15)\n"
   ]
  },
  {
   "cell_type": "code",
   "execution_count": 8,
   "id": "2a1b009c",
   "metadata": {},
   "outputs": [
    {
     "data": {
      "text/plain": [
       "27481"
      ]
     },
     "execution_count": 8,
     "metadata": {},
     "output_type": "execute_result"
    }
   ],
   "source": [
    "#Let's get the dataset lenght\n",
    "len(train)"
   ]
  },
  {
   "cell_type": "code",
   "execution_count": 9,
   "id": "baca3034",
   "metadata": {},
   "outputs": [
    {
     "data": {
      "text/plain": [
       "array(['neutral', 'negative', 'positive'], dtype=object)"
      ]
     },
     "execution_count": 9,
     "metadata": {},
     "output_type": "execute_result"
    }
   ],
   "source": [
    "#Is there any other different value than neutral, negative and positive?\n",
    "train['sentiment'].unique()"
   ]
  },
  {
   "cell_type": "code",
   "execution_count": 10,
   "id": "ed473ff8",
   "metadata": {},
   "outputs": [
    {
     "data": {
      "text/html": [
       "<div>\n",
       "<style scoped>\n",
       "    .dataframe tbody tr th:only-of-type {\n",
       "        vertical-align: middle;\n",
       "    }\n",
       "\n",
       "    .dataframe tbody tr th {\n",
       "        vertical-align: top;\n",
       "    }\n",
       "\n",
       "    .dataframe thead th {\n",
       "        text-align: right;\n",
       "    }\n",
       "</style>\n",
       "<table border=\"1\" class=\"dataframe\">\n",
       "  <thead>\n",
       "    <tr style=\"text-align: right;\">\n",
       "      <th></th>\n",
       "      <th>textID</th>\n",
       "      <th>text</th>\n",
       "      <th>selected_text</th>\n",
       "    </tr>\n",
       "    <tr>\n",
       "      <th>sentiment</th>\n",
       "      <th></th>\n",
       "      <th></th>\n",
       "      <th></th>\n",
       "    </tr>\n",
       "  </thead>\n",
       "  <tbody>\n",
       "    <tr>\n",
       "      <th>negative</th>\n",
       "      <td>7781</td>\n",
       "      <td>7781</td>\n",
       "      <td>5861</td>\n",
       "    </tr>\n",
       "    <tr>\n",
       "      <th>neutral</th>\n",
       "      <td>11118</td>\n",
       "      <td>11117</td>\n",
       "      <td>11111</td>\n",
       "    </tr>\n",
       "    <tr>\n",
       "      <th>positive</th>\n",
       "      <td>8582</td>\n",
       "      <td>8582</td>\n",
       "      <td>5537</td>\n",
       "    </tr>\n",
       "  </tbody>\n",
       "</table>\n",
       "</div>"
      ],
      "text/plain": [
       "           textID   text  selected_text\n",
       "sentiment                              \n",
       "negative     7781   7781           5861\n",
       "neutral     11118  11117          11111\n",
       "positive     8582   8582           5537"
      ]
     },
     "execution_count": 10,
     "metadata": {},
     "output_type": "execute_result"
    }
   ],
   "source": [
    "#How's distributed the dataset? Is it biased?\n",
    "train.groupby('sentiment').nunique()"
   ]
  },
  {
   "cell_type": "markdown",
   "id": "635d7fea",
   "metadata": {},
   "source": [
    "## Data Cleaning"
   ]
  },
  {
   "cell_type": "code",
   "execution_count": 11,
   "id": "abeb3d26",
   "metadata": {},
   "outputs": [
    {
     "data": {
      "text/html": [
       "<div>\n",
       "<style scoped>\n",
       "    .dataframe tbody tr th:only-of-type {\n",
       "        vertical-align: middle;\n",
       "    }\n",
       "\n",
       "    .dataframe tbody tr th {\n",
       "        vertical-align: top;\n",
       "    }\n",
       "\n",
       "    .dataframe thead th {\n",
       "        text-align: right;\n",
       "    }\n",
       "</style>\n",
       "<table border=\"1\" class=\"dataframe\">\n",
       "  <thead>\n",
       "    <tr style=\"text-align: right;\">\n",
       "      <th></th>\n",
       "      <th>selected_text</th>\n",
       "      <th>sentiment</th>\n",
       "    </tr>\n",
       "  </thead>\n",
       "  <tbody>\n",
       "    <tr>\n",
       "      <th>0</th>\n",
       "      <td>I`d have responded, if I were going</td>\n",
       "      <td>neutral</td>\n",
       "    </tr>\n",
       "    <tr>\n",
       "      <th>1</th>\n",
       "      <td>Sooo SAD</td>\n",
       "      <td>negative</td>\n",
       "    </tr>\n",
       "    <tr>\n",
       "      <th>2</th>\n",
       "      <td>bullying me</td>\n",
       "      <td>negative</td>\n",
       "    </tr>\n",
       "    <tr>\n",
       "      <th>3</th>\n",
       "      <td>leave me alone</td>\n",
       "      <td>negative</td>\n",
       "    </tr>\n",
       "    <tr>\n",
       "      <th>4</th>\n",
       "      <td>Sons of ****,</td>\n",
       "      <td>negative</td>\n",
       "    </tr>\n",
       "  </tbody>\n",
       "</table>\n",
       "</div>"
      ],
      "text/plain": [
       "                         selected_text sentiment\n",
       "0  I`d have responded, if I were going   neutral\n",
       "1                             Sooo SAD  negative\n",
       "2                          bullying me  negative\n",
       "3                       leave me alone  negative\n",
       "4                        Sons of ****,  negative"
      ]
     },
     "execution_count": 11,
     "metadata": {},
     "output_type": "execute_result"
    }
   ],
   "source": [
    "#Let's keep only the columns that we're going to use\n",
    "train = train[['selected_text','sentiment']]\n",
    "train.head()"
   ]
  },
  {
   "cell_type": "code",
   "execution_count": 12,
   "id": "36d01c9c",
   "metadata": {},
   "outputs": [
    {
     "data": {
      "text/plain": [
       "1"
      ]
     },
     "execution_count": 12,
     "metadata": {},
     "output_type": "execute_result"
    }
   ],
   "source": [
    "#Is there any null value?\n",
    "train[\"selected_text\"].isnull().sum()"
   ]
  },
  {
   "cell_type": "code",
   "execution_count": 13,
   "id": "2294360b",
   "metadata": {},
   "outputs": [],
   "source": [
    "#Let's fill the only null value.\n",
    "train[\"selected_text\"].fillna(\"No content\", inplace = True)"
   ]
  },
  {
   "cell_type": "code",
   "execution_count": 14,
   "id": "b7b951fd",
   "metadata": {},
   "outputs": [],
   "source": [
    "def depure_data(data):\n",
    "    \n",
    "    #Removing URLs with a regular expression\n",
    "    url_pattern = re.compile(r'https?://\\S+|www\\.\\S+')\n",
    "    data = url_pattern.sub(r'', data)\n",
    "\n",
    "    # Remove Emails\n",
    "    data = re.sub('\\S*@\\S*\\s?', '', data)\n",
    "\n",
    "    # Remove new line characters\n",
    "    data = re.sub('\\s+', ' ', data)\n",
    "\n",
    "    # Remove distracting single quotes\n",
    "    data = re.sub(\"\\'\", \"\", data)\n",
    "        \n",
    "    return data"
   ]
  },
  {
   "cell_type": "code",
   "execution_count": 15,
   "id": "c0b78c9d",
   "metadata": {},
   "outputs": [
    {
     "data": {
      "text/plain": [
       "['I`d have responded, if I were going',\n",
       " 'Sooo SAD',\n",
       " 'bullying me',\n",
       " 'leave me alone',\n",
       " 'Sons of ****,']"
      ]
     },
     "execution_count": 15,
     "metadata": {},
     "output_type": "execute_result"
    }
   ],
   "source": [
    "temp = []\n",
    "#Splitting pd.Series to list\n",
    "data_to_list = train['selected_text'].values.tolist()\n",
    "for i in range(len(data_to_list)):\n",
    "    temp.append(depure_data(data_to_list[i]))\n",
    "list(temp[:5])"
   ]
  },
  {
   "cell_type": "code",
   "execution_count": 16,
   "id": "69bc383b",
   "metadata": {},
   "outputs": [
    {
     "name": "stdout",
     "output_type": "stream",
     "text": [
      "[['have', 'responded', 'if', 'were', 'going'], ['sooo', 'sad'], ['bullying', 'me'], ['leave', 'me', 'alone'], ['sons', 'of'], ['some', 'shameless', 'plugging', 'for', 'the', 'best', 'rangers', 'forum', 'on', 'earth'], ['fun'], ['soooo', 'high'], ['both', 'of', 'you'], ['wow', 'just', 'became', 'cooler']]\n"
     ]
    }
   ],
   "source": [
    "def sent_to_words(sentences):\n",
    "    for sentence in sentences:\n",
    "        yield(gensim.utils.simple_preprocess(str(sentence), deacc=True))  # deacc=True removes punctuations\n",
    "        \n",
    "\n",
    "data_words = list(sent_to_words(temp))\n",
    "\n",
    "print(data_words[:10])"
   ]
  },
  {
   "cell_type": "code",
   "execution_count": 17,
   "id": "4ae8893f",
   "metadata": {},
   "outputs": [
    {
     "data": {
      "text/plain": [
       "27481"
      ]
     },
     "execution_count": 17,
     "metadata": {},
     "output_type": "execute_result"
    }
   ],
   "source": [
    "len(data_words)"
   ]
  },
  {
   "cell_type": "code",
   "execution_count": 18,
   "id": "28ceb98e",
   "metadata": {},
   "outputs": [],
   "source": [
    "def detokenize(text):\n",
    "    return TreebankWordDetokenizer().detokenize(text)"
   ]
  },
  {
   "cell_type": "code",
   "execution_count": 19,
   "id": "9ab5a462",
   "metadata": {},
   "outputs": [
    {
     "name": "stdout",
     "output_type": "stream",
     "text": [
      "['have responded if were going', 'sooo sad', 'bullying me', 'leave me alone', 'sons of']\n"
     ]
    }
   ],
   "source": [
    "data = []\n",
    "for i in range(len(data_words)):\n",
    "    data.append(detokenize(data_words[i]))\n",
    "print(data[:5])"
   ]
  },
  {
   "cell_type": "code",
   "execution_count": 20,
   "id": "8fe4df27",
   "metadata": {},
   "outputs": [],
   "source": [
    "data = np.array(data)"
   ]
  },
  {
   "cell_type": "markdown",
   "id": "d665dc27",
   "metadata": {},
   "source": [
    "## Label Encoding"
   ]
  },
  {
   "cell_type": "code",
   "execution_count": 21,
   "id": "bae6c410",
   "metadata": {},
   "outputs": [],
   "source": [
    "labels = np.array(train['sentiment'])\n",
    "y = []\n",
    "for i in range(len(labels)):\n",
    "    if labels[i] == 'neutral':\n",
    "        y.append(0)\n",
    "    if labels[i] == 'negative':\n",
    "        y.append(1)\n",
    "    if labels[i] == 'positive':\n",
    "        y.append(2)\n",
    "y = np.array(y)\n",
    "labels = tf.keras.utils.to_categorical(y, 3, dtype=\"float32\")\n",
    "del y"
   ]
  },
  {
   "cell_type": "code",
   "execution_count": 22,
   "id": "1a4c109f",
   "metadata": {},
   "outputs": [
    {
     "data": {
      "text/plain": [
       "27481"
      ]
     },
     "execution_count": 22,
     "metadata": {},
     "output_type": "execute_result"
    }
   ],
   "source": [
    "len(labels)"
   ]
  },
  {
   "cell_type": "markdown",
   "id": "97a08ad6",
   "metadata": {},
   "source": [
    "## Data sequencing and splitting"
   ]
  },
  {
   "cell_type": "code",
   "execution_count": 23,
   "id": "2a5036de",
   "metadata": {},
   "outputs": [
    {
     "name": "stdout",
     "output_type": "stream",
     "text": [
      "[[   0    0    0 ...   68  146   41]\n",
      " [   0    0    0 ...    0  397   65]\n",
      " [   0    0    0 ...    0    0   11]\n",
      " ...\n",
      " [   0    0    0 ...  372   10    3]\n",
      " [   0    0    0 ...   24  542    4]\n",
      " [   0    0    0 ... 2424  199  657]]\n"
     ]
    }
   ],
   "source": [
    "from keras.models import Sequential\n",
    "from keras import layers\n",
    "from keras.optimizers import RMSprop,Adam\n",
    "from keras.preprocessing.text import Tokenizer\n",
    "from tensorflow.keras.preprocessing.sequence import pad_sequences\n",
    "from keras import regularizers\n",
    "from keras import backend as K\n",
    "from keras.callbacks import ModelCheckpoint\n",
    "max_words = 5000\n",
    "max_len = 200\n",
    "\n",
    "tokenizer = Tokenizer(num_words=max_words)\n",
    "tokenizer.fit_on_texts(data)\n",
    "sequences = tokenizer.texts_to_sequences(data)\n",
    "tweets = pad_sequences(sequences, maxlen=max_len)\n",
    "print(tweets)"
   ]
  },
  {
   "cell_type": "code",
   "execution_count": 24,
   "id": "07dbd60e",
   "metadata": {},
   "outputs": [
    {
     "name": "stdout",
     "output_type": "stream",
     "text": [
      "[[1. 0. 0.]\n",
      " [0. 1. 0.]\n",
      " [0. 1. 0.]\n",
      " ...\n",
      " [0. 0. 1.]\n",
      " [0. 0. 1.]\n",
      " [1. 0. 0.]]\n"
     ]
    }
   ],
   "source": [
    "print(labels)\n"
   ]
  },
  {
   "cell_type": "code",
   "execution_count": 25,
   "id": "9515129a",
   "metadata": {},
   "outputs": [
    {
     "name": "stdout",
     "output_type": "stream",
     "text": [
      "20610 6871 20610 6871\n"
     ]
    }
   ],
   "source": [
    "#Splittting the data\n",
    "X_train, X_test, y_train, y_test = train_test_split(tweets,labels, random_state=0)\n",
    "print (len(X_train),len(X_test),len(y_train),len(y_test))"
   ]
  },
  {
   "cell_type": "markdown",
   "id": "a372a949",
   "metadata": {},
   "source": [
    "# **SINGLE LSTM LAYER MODEL**"
   ]
  },
  {
   "cell_type": "code",
   "execution_count": 26,
   "id": "5aedbdba",
   "metadata": {},
   "outputs": [
    {
     "name": "stdout",
     "output_type": "stream",
     "text": [
      "WARNING:tensorflow:`period` argument is deprecated. Please use `save_freq` to specify the frequency in number of batches seen.\n",
      "Epoch 1/70\n",
      "645/645 [==============================] - ETA: 0s - loss: 0.8192 - accuracy: 0.6428\n",
      "Epoch 1: val_accuracy improved from -inf to 0.70878, saving model to best_model1.hdf5\n",
      "645/645 [==============================] - 71s 107ms/step - loss: 0.8192 - accuracy: 0.6428 - val_loss: 0.6719 - val_accuracy: 0.7088\n",
      "Epoch 2/70\n",
      "645/645 [==============================] - ETA: 0s - loss: 0.5850 - accuracy: 0.7658\n",
      "Epoch 2: val_accuracy improved from 0.70878 to 0.78940, saving model to best_model1.hdf5\n",
      "645/645 [==============================] - 56s 87ms/step - loss: 0.5850 - accuracy: 0.7658 - val_loss: 0.5337 - val_accuracy: 0.7894\n",
      "Epoch 3/70\n",
      "645/645 [==============================] - ETA: 0s - loss: 0.5095 - accuracy: 0.8016\n",
      "Epoch 3: val_accuracy improved from 0.78940 to 0.80105, saving model to best_model1.hdf5\n",
      "645/645 [==============================] - 57s 89ms/step - loss: 0.5095 - accuracy: 0.8016 - val_loss: 0.5208 - val_accuracy: 0.8010\n",
      "Epoch 4/70\n",
      "645/645 [==============================] - ETA: 0s - loss: 0.4756 - accuracy: 0.8187\n",
      "Epoch 4: val_accuracy improved from 0.80105 to 0.80702, saving model to best_model1.hdf5\n",
      "645/645 [==============================] - 57s 88ms/step - loss: 0.4756 - accuracy: 0.8187 - val_loss: 0.4859 - val_accuracy: 0.8070\n",
      "Epoch 5/70\n",
      "645/645 [==============================] - ETA: 0s - loss: 0.4543 - accuracy: 0.8276\n",
      "Epoch 5: val_accuracy improved from 0.80702 to 0.82157, saving model to best_model1.hdf5\n",
      "645/645 [==============================] - 61s 94ms/step - loss: 0.4543 - accuracy: 0.8276 - val_loss: 0.4726 - val_accuracy: 0.8216\n",
      "Epoch 6/70\n",
      "645/645 [==============================] - ETA: 0s - loss: 0.4425 - accuracy: 0.8323\n",
      "Epoch 6: val_accuracy improved from 0.82157 to 0.82317, saving model to best_model1.hdf5\n",
      "645/645 [==============================] - 59s 91ms/step - loss: 0.4425 - accuracy: 0.8323 - val_loss: 0.4650 - val_accuracy: 0.8232\n",
      "Epoch 7/70\n",
      "645/645 [==============================] - ETA: 0s - loss: 0.4277 - accuracy: 0.8395\n",
      "Epoch 7: val_accuracy did not improve from 0.82317\n",
      "645/645 [==============================] - 54s 83ms/step - loss: 0.4277 - accuracy: 0.8395 - val_loss: 0.4597 - val_accuracy: 0.8227\n",
      "Epoch 8/70\n",
      "645/645 [==============================] - ETA: 0s - loss: 0.4186 - accuracy: 0.8416\n",
      "Epoch 8: val_accuracy improved from 0.82317 to 0.82463, saving model to best_model1.hdf5\n",
      "645/645 [==============================] - 59s 92ms/step - loss: 0.4186 - accuracy: 0.8416 - val_loss: 0.4524 - val_accuracy: 0.8246\n",
      "Epoch 9/70\n",
      "645/645 [==============================] - ETA: 0s - loss: 0.4075 - accuracy: 0.8475\n",
      "Epoch 9: val_accuracy did not improve from 0.82463\n",
      "645/645 [==============================] - 60s 92ms/step - loss: 0.4075 - accuracy: 0.8475 - val_loss: 0.4594 - val_accuracy: 0.8179\n",
      "Epoch 10/70\n",
      "644/645 [============================>.] - ETA: 0s - loss: 0.3998 - accuracy: 0.8489\n",
      "Epoch 10: val_accuracy did not improve from 0.82463\n",
      "645/645 [==============================] - 62s 96ms/step - loss: 0.3998 - accuracy: 0.8489 - val_loss: 0.4509 - val_accuracy: 0.8229\n",
      "Epoch 11/70\n",
      "645/645 [==============================] - ETA: 0s - loss: 0.3912 - accuracy: 0.8567\n",
      "Epoch 11: val_accuracy improved from 0.82463 to 0.82797, saving model to best_model1.hdf5\n",
      "645/645 [==============================] - 54s 84ms/step - loss: 0.3912 - accuracy: 0.8567 - val_loss: 0.4421 - val_accuracy: 0.8280\n",
      "Epoch 12/70\n",
      "645/645 [==============================] - ETA: 0s - loss: 0.3875 - accuracy: 0.8574\n",
      "Epoch 12: val_accuracy improved from 0.82797 to 0.82855, saving model to best_model1.hdf5\n",
      "645/645 [==============================] - 59s 92ms/step - loss: 0.3875 - accuracy: 0.8574 - val_loss: 0.4459 - val_accuracy: 0.8286\n",
      "Epoch 13/70\n",
      "645/645 [==============================] - ETA: 0s - loss: 0.3792 - accuracy: 0.8628\n",
      "Epoch 13: val_accuracy improved from 0.82855 to 0.83001, saving model to best_model1.hdf5\n",
      "645/645 [==============================] - 57s 88ms/step - loss: 0.3792 - accuracy: 0.8628 - val_loss: 0.4434 - val_accuracy: 0.8300\n",
      "Epoch 14/70\n",
      "645/645 [==============================] - ETA: 0s - loss: 0.3755 - accuracy: 0.8604\n",
      "Epoch 14: val_accuracy did not improve from 0.83001\n",
      "645/645 [==============================] - 54s 83ms/step - loss: 0.3755 - accuracy: 0.8604 - val_loss: 0.4421 - val_accuracy: 0.8290\n",
      "Epoch 15/70\n",
      "645/645 [==============================] - ETA: 0s - loss: 0.3715 - accuracy: 0.8620\n",
      "Epoch 15: val_accuracy did not improve from 0.83001\n",
      "645/645 [==============================] - 57s 88ms/step - loss: 0.3715 - accuracy: 0.8620 - val_loss: 0.4461 - val_accuracy: 0.8291\n",
      "Epoch 16/70\n",
      "645/645 [==============================] - ETA: 0s - loss: 0.3685 - accuracy: 0.8640\n",
      "Epoch 16: val_accuracy improved from 0.83001 to 0.83088, saving model to best_model1.hdf5\n",
      "645/645 [==============================] - 60s 92ms/step - loss: 0.3685 - accuracy: 0.8640 - val_loss: 0.4413 - val_accuracy: 0.8309\n",
      "Epoch 17/70\n",
      "644/645 [============================>.] - ETA: 0s - loss: 0.3670 - accuracy: 0.8673\n",
      "Epoch 17: val_accuracy did not improve from 0.83088\n",
      "645/645 [==============================] - 49s 75ms/step - loss: 0.3670 - accuracy: 0.8673 - val_loss: 0.4438 - val_accuracy: 0.8294\n",
      "Epoch 18/70\n",
      "645/645 [==============================] - ETA: 0s - loss: 0.3612 - accuracy: 0.8655\n",
      "Epoch 18: val_accuracy improved from 0.83088 to 0.83481, saving model to best_model1.hdf5\n",
      "645/645 [==============================] - 57s 89ms/step - loss: 0.3612 - accuracy: 0.8655 - val_loss: 0.4340 - val_accuracy: 0.8348\n",
      "Epoch 19/70\n",
      "644/645 [============================>.] - ETA: 0s - loss: 0.3608 - accuracy: 0.8675\n",
      "Epoch 19: val_accuracy improved from 0.83481 to 0.83554, saving model to best_model1.hdf5\n",
      "645/645 [==============================] - 54s 83ms/step - loss: 0.3608 - accuracy: 0.8675 - val_loss: 0.4266 - val_accuracy: 0.8355\n",
      "Epoch 20/70\n",
      "645/645 [==============================] - ETA: 0s - loss: 0.3548 - accuracy: 0.8693\n",
      "Epoch 20: val_accuracy did not improve from 0.83554\n",
      "645/645 [==============================] - 47s 73ms/step - loss: 0.3548 - accuracy: 0.8693 - val_loss: 0.4359 - val_accuracy: 0.8351\n",
      "Epoch 21/70\n",
      "645/645 [==============================] - ETA: 0s - loss: 0.3508 - accuracy: 0.8716\n",
      "Epoch 21: val_accuracy did not improve from 0.83554\n",
      "645/645 [==============================] - 52s 81ms/step - loss: 0.3508 - accuracy: 0.8716 - val_loss: 0.4392 - val_accuracy: 0.8352\n",
      "Epoch 22/70\n",
      "645/645 [==============================] - ETA: 0s - loss: 0.3480 - accuracy: 0.8715\n",
      "Epoch 22: val_accuracy did not improve from 0.83554\n",
      "645/645 [==============================] - 56s 87ms/step - loss: 0.3480 - accuracy: 0.8715 - val_loss: 0.4371 - val_accuracy: 0.8344\n",
      "Epoch 23/70\n",
      "645/645 [==============================] - ETA: 0s - loss: 0.3462 - accuracy: 0.8732\n",
      "Epoch 23: val_accuracy improved from 0.83554 to 0.83583, saving model to best_model1.hdf5\n",
      "645/645 [==============================] - 50s 77ms/step - loss: 0.3462 - accuracy: 0.8732 - val_loss: 0.4365 - val_accuracy: 0.8358\n",
      "Epoch 24/70\n",
      "644/645 [============================>.] - ETA: 0s - loss: 0.3464 - accuracy: 0.8731\n",
      "Epoch 24: val_accuracy did not improve from 0.83583\n",
      "645/645 [==============================] - 59s 91ms/step - loss: 0.3464 - accuracy: 0.8731 - val_loss: 0.4403 - val_accuracy: 0.8341\n",
      "Epoch 25/70\n",
      "644/645 [============================>.] - ETA: 0s - loss: 0.3447 - accuracy: 0.8733\n",
      "Epoch 25: val_accuracy did not improve from 0.83583\n",
      "645/645 [==============================] - 55s 85ms/step - loss: 0.3450 - accuracy: 0.8732 - val_loss: 0.4298 - val_accuracy: 0.8256\n",
      "Epoch 26/70\n",
      "645/645 [==============================] - ETA: 0s - loss: 0.3432 - accuracy: 0.8730\n",
      "Epoch 26: val_accuracy improved from 0.83583 to 0.83729, saving model to best_model1.hdf5\n",
      "645/645 [==============================] - 56s 87ms/step - loss: 0.3432 - accuracy: 0.8730 - val_loss: 0.4325 - val_accuracy: 0.8373\n",
      "Epoch 27/70\n",
      "645/645 [==============================] - ETA: 0s - loss: 0.3382 - accuracy: 0.8733\n",
      "Epoch 27: val_accuracy improved from 0.83729 to 0.83787, saving model to best_model1.hdf5\n"
     ]
    },
    {
     "name": "stdout",
     "output_type": "stream",
     "text": [
      "645/645 [==============================] - 56s 87ms/step - loss: 0.3382 - accuracy: 0.8733 - val_loss: 0.4332 - val_accuracy: 0.8379\n",
      "Epoch 28/70\n",
      "644/645 [============================>.] - ETA: 0s - loss: 0.3368 - accuracy: 0.8764\n",
      "Epoch 28: val_accuracy improved from 0.83787 to 0.83918, saving model to best_model1.hdf5\n",
      "645/645 [==============================] - 46s 71ms/step - loss: 0.3368 - accuracy: 0.8764 - val_loss: 0.4327 - val_accuracy: 0.8392\n",
      "Epoch 29/70\n",
      "645/645 [==============================] - ETA: 0s - loss: 0.3388 - accuracy: 0.8756\n",
      "Epoch 29: val_accuracy did not improve from 0.83918\n",
      "645/645 [==============================] - 50s 77ms/step - loss: 0.3388 - accuracy: 0.8756 - val_loss: 0.4318 - val_accuracy: 0.8386\n",
      "Epoch 30/70\n",
      "645/645 [==============================] - ETA: 0s - loss: 0.3348 - accuracy: 0.8777\n",
      "Epoch 30: val_accuracy did not improve from 0.83918\n",
      "645/645 [==============================] - 62s 97ms/step - loss: 0.3348 - accuracy: 0.8777 - val_loss: 0.4364 - val_accuracy: 0.8360\n",
      "Epoch 31/70\n",
      "645/645 [==============================] - ETA: 0s - loss: 0.3350 - accuracy: 0.8763\n",
      "Epoch 31: val_accuracy did not improve from 0.83918\n",
      "645/645 [==============================] - 55s 85ms/step - loss: 0.3350 - accuracy: 0.8763 - val_loss: 0.4380 - val_accuracy: 0.8385\n",
      "Epoch 32/70\n",
      "644/645 [============================>.] - ETA: 0s - loss: 0.3354 - accuracy: 0.8758\n",
      "Epoch 32: val_accuracy improved from 0.83918 to 0.84034, saving model to best_model1.hdf5\n",
      "645/645 [==============================] - 62s 96ms/step - loss: 0.3354 - accuracy: 0.8758 - val_loss: 0.4340 - val_accuracy: 0.8403\n",
      "Epoch 33/70\n",
      "645/645 [==============================] - ETA: 0s - loss: 0.3304 - accuracy: 0.8761\n",
      "Epoch 33: val_accuracy did not improve from 0.84034\n",
      "645/645 [==============================] - 48s 75ms/step - loss: 0.3304 - accuracy: 0.8761 - val_loss: 0.4296 - val_accuracy: 0.8383\n",
      "Epoch 34/70\n",
      "644/645 [============================>.] - ETA: 0s - loss: 0.3302 - accuracy: 0.8784\n",
      "Epoch 34: val_accuracy did not improve from 0.84034\n",
      "645/645 [==============================] - 57s 89ms/step - loss: 0.3301 - accuracy: 0.8785 - val_loss: 0.4304 - val_accuracy: 0.8383\n",
      "Epoch 35/70\n",
      "645/645 [==============================] - ETA: 0s - loss: 0.3292 - accuracy: 0.8786\n",
      "Epoch 35: val_accuracy did not improve from 0.84034\n",
      "645/645 [==============================] - 54s 83ms/step - loss: 0.3292 - accuracy: 0.8786 - val_loss: 0.4346 - val_accuracy: 0.8367\n",
      "Epoch 36/70\n",
      "645/645 [==============================] - ETA: 0s - loss: 0.3293 - accuracy: 0.8797\n",
      "Epoch 36: val_accuracy did not improve from 0.84034\n",
      "645/645 [==============================] - 56s 86ms/step - loss: 0.3293 - accuracy: 0.8797 - val_loss: 0.4296 - val_accuracy: 0.8387\n",
      "Epoch 37/70\n",
      "644/645 [============================>.] - ETA: 0s - loss: 0.3257 - accuracy: 0.8808\n",
      "Epoch 37: val_accuracy did not improve from 0.84034\n",
      "645/645 [==============================] - 62s 96ms/step - loss: 0.3257 - accuracy: 0.8808 - val_loss: 0.4303 - val_accuracy: 0.8402\n",
      "Epoch 38/70\n",
      "645/645 [==============================] - ETA: 0s - loss: 0.3218 - accuracy: 0.8809\n",
      "Epoch 38: val_accuracy improved from 0.84034 to 0.84136, saving model to best_model1.hdf5\n",
      "645/645 [==============================] - 51s 79ms/step - loss: 0.3218 - accuracy: 0.8809 - val_loss: 0.4290 - val_accuracy: 0.8414\n",
      "Epoch 39/70\n",
      "645/645 [==============================] - ETA: 0s - loss: 0.3229 - accuracy: 0.8807\n",
      "Epoch 39: val_accuracy did not improve from 0.84136\n",
      "645/645 [==============================] - 261s 405ms/step - loss: 0.3229 - accuracy: 0.8807 - val_loss: 0.4422 - val_accuracy: 0.8390\n",
      "Epoch 40/70\n",
      "644/645 [============================>.] - ETA: 0s - loss: 0.3189 - accuracy: 0.8804\n",
      "Epoch 40: val_accuracy did not improve from 0.84136\n",
      "645/645 [==============================] - 58s 90ms/step - loss: 0.3189 - accuracy: 0.8804 - val_loss: 0.4353 - val_accuracy: 0.8393\n",
      "Epoch 41/70\n",
      "645/645 [==============================] - ETA: 0s - loss: 0.3199 - accuracy: 0.8825\n",
      "Epoch 41: val_accuracy did not improve from 0.84136\n",
      "645/645 [==============================] - 52s 81ms/step - loss: 0.3199 - accuracy: 0.8825 - val_loss: 0.4333 - val_accuracy: 0.8352\n",
      "Epoch 42/70\n",
      "644/645 [============================>.] - ETA: 0s - loss: 0.3170 - accuracy: 0.8842\n",
      "Epoch 42: val_accuracy did not improve from 0.84136\n",
      "645/645 [==============================] - 47s 73ms/step - loss: 0.3170 - accuracy: 0.8842 - val_loss: 0.4427 - val_accuracy: 0.8387\n",
      "Epoch 43/70\n",
      "644/645 [============================>.] - ETA: 0s - loss: 0.3202 - accuracy: 0.8816\n",
      "Epoch 43: val_accuracy did not improve from 0.84136\n",
      "645/645 [==============================] - 51s 79ms/step - loss: 0.3202 - accuracy: 0.8816 - val_loss: 0.4339 - val_accuracy: 0.8409\n",
      "Epoch 44/70\n",
      "644/645 [============================>.] - ETA: 0s - loss: 0.3139 - accuracy: 0.8847\n",
      "Epoch 44: val_accuracy did not improve from 0.84136\n",
      "645/645 [==============================] - 47s 73ms/step - loss: 0.3139 - accuracy: 0.8847 - val_loss: 0.4414 - val_accuracy: 0.8405\n",
      "Epoch 45/70\n",
      "645/645 [==============================] - ETA: 0s - loss: 0.3132 - accuracy: 0.8845\n",
      "Epoch 45: val_accuracy did not improve from 0.84136\n",
      "645/645 [==============================] - 50s 78ms/step - loss: 0.3132 - accuracy: 0.8845 - val_loss: 0.4413 - val_accuracy: 0.8377\n",
      "Epoch 46/70\n",
      "645/645 [==============================] - ETA: 0s - loss: 0.3137 - accuracy: 0.8854\n",
      "Epoch 46: val_accuracy did not improve from 0.84136\n",
      "645/645 [==============================] - 52s 81ms/step - loss: 0.3137 - accuracy: 0.8854 - val_loss: 0.4393 - val_accuracy: 0.8411\n",
      "Epoch 47/70\n",
      "644/645 [============================>.] - ETA: 0s - loss: 0.3089 - accuracy: 0.8874\n",
      "Epoch 47: val_accuracy did not improve from 0.84136\n",
      "645/645 [==============================] - 45s 70ms/step - loss: 0.3089 - accuracy: 0.8874 - val_loss: 0.4337 - val_accuracy: 0.8409\n",
      "Epoch 48/70\n",
      "645/645 [==============================] - ETA: 0s - loss: 0.3092 - accuracy: 0.8864\n",
      "Epoch 48: val_accuracy did not improve from 0.84136\n",
      "645/645 [==============================] - 49s 77ms/step - loss: 0.3092 - accuracy: 0.8864 - val_loss: 0.4382 - val_accuracy: 0.8403\n",
      "Epoch 49/70\n",
      "645/645 [==============================] - ETA: 0s - loss: 0.3113 - accuracy: 0.8877\n",
      "Epoch 49: val_accuracy did not improve from 0.84136\n",
      "645/645 [==============================] - 48s 75ms/step - loss: 0.3113 - accuracy: 0.8877 - val_loss: 0.4353 - val_accuracy: 0.8389\n",
      "Epoch 50/70\n",
      "644/645 [============================>.] - ETA: 0s - loss: 0.3099 - accuracy: 0.8872\n",
      "Epoch 50: val_accuracy did not improve from 0.84136\n",
      "645/645 [==============================] - 52s 80ms/step - loss: 0.3099 - accuracy: 0.8872 - val_loss: 0.4342 - val_accuracy: 0.8385\n",
      "Epoch 51/70\n",
      "644/645 [============================>.] - ETA: 0s - loss: 0.3067 - accuracy: 0.8880\n",
      "Epoch 51: val_accuracy improved from 0.84136 to 0.84296, saving model to best_model1.hdf5\n",
      "645/645 [==============================] - 53s 81ms/step - loss: 0.3067 - accuracy: 0.8880 - val_loss: 0.4380 - val_accuracy: 0.8430\n",
      "Epoch 52/70\n",
      "645/645 [==============================] - ETA: 0s - loss: 0.3084 - accuracy: 0.8888\n",
      "Epoch 52: val_accuracy did not improve from 0.84296\n",
      "645/645 [==============================] - 46s 71ms/step - loss: 0.3084 - accuracy: 0.8888 - val_loss: 0.4383 - val_accuracy: 0.8385\n",
      "Epoch 53/70\n",
      "644/645 [============================>.] - ETA: 0s - loss: 0.3077 - accuracy: 0.8879\n",
      "Epoch 53: val_accuracy did not improve from 0.84296\n",
      "645/645 [==============================] - 51s 80ms/step - loss: 0.3077 - accuracy: 0.8879 - val_loss: 0.4364 - val_accuracy: 0.8401\n",
      "Epoch 54/70\n",
      "644/645 [============================>.] - ETA: 0s - loss: 0.3025 - accuracy: 0.8905\n",
      "Epoch 54: val_accuracy did not improve from 0.84296\n",
      "645/645 [==============================] - 49s 76ms/step - loss: 0.3025 - accuracy: 0.8905 - val_loss: 0.4383 - val_accuracy: 0.8399\n",
      "Epoch 55/70\n",
      "645/645 [==============================] - ETA: 0s - loss: 0.3036 - accuracy: 0.8898\n",
      "Epoch 55: val_accuracy did not improve from 0.84296\n",
      "645/645 [==============================] - 52s 80ms/step - loss: 0.3036 - accuracy: 0.8898 - val_loss: 0.4379 - val_accuracy: 0.8408\n",
      "Epoch 56/70\n"
     ]
    },
    {
     "name": "stdout",
     "output_type": "stream",
     "text": [
      "645/645 [==============================] - ETA: 0s - loss: 0.3016 - accuracy: 0.8892\n",
      "Epoch 56: val_accuracy did not improve from 0.84296\n",
      "645/645 [==============================] - 52s 81ms/step - loss: 0.3016 - accuracy: 0.8892 - val_loss: 0.4403 - val_accuracy: 0.8373\n",
      "Epoch 57/70\n",
      "644/645 [============================>.] - ETA: 0s - loss: 0.3007 - accuracy: 0.8905\n",
      "Epoch 57: val_accuracy did not improve from 0.84296\n",
      "645/645 [==============================] - 50s 78ms/step - loss: 0.3006 - accuracy: 0.8905 - val_loss: 0.4378 - val_accuracy: 0.8395\n",
      "Epoch 58/70\n",
      "644/645 [============================>.] - ETA: 0s - loss: 0.2995 - accuracy: 0.8895\n",
      "Epoch 58: val_accuracy did not improve from 0.84296\n",
      "645/645 [==============================] - 51s 79ms/step - loss: 0.2996 - accuracy: 0.8894 - val_loss: 0.4437 - val_accuracy: 0.8377\n",
      "Epoch 59/70\n",
      "645/645 [==============================] - ETA: 0s - loss: 0.2975 - accuracy: 0.8931\n",
      "Epoch 59: val_accuracy did not improve from 0.84296\n",
      "645/645 [==============================] - 63s 98ms/step - loss: 0.2975 - accuracy: 0.8931 - val_loss: 0.4372 - val_accuracy: 0.8382\n",
      "Epoch 60/70\n",
      "645/645 [==============================] - ETA: 0s - loss: 0.3006 - accuracy: 0.8909\n",
      "Epoch 60: val_accuracy did not improve from 0.84296\n",
      "645/645 [==============================] - 118s 183ms/step - loss: 0.3006 - accuracy: 0.8909 - val_loss: 0.4411 - val_accuracy: 0.8370\n",
      "Epoch 61/70\n",
      "645/645 [==============================] - ETA: 0s - loss: 0.2956 - accuracy: 0.8926\n",
      "Epoch 61: val_accuracy did not improve from 0.84296\n",
      "645/645 [==============================] - 112s 174ms/step - loss: 0.2956 - accuracy: 0.8926 - val_loss: 0.4424 - val_accuracy: 0.8402\n",
      "Epoch 62/70\n",
      "645/645 [==============================] - ETA: 0s - loss: 0.3002 - accuracy: 0.8900\n",
      "Epoch 62: val_accuracy did not improve from 0.84296\n",
      "645/645 [==============================] - 114s 176ms/step - loss: 0.3002 - accuracy: 0.8900 - val_loss: 0.4447 - val_accuracy: 0.8377\n",
      "Epoch 63/70\n",
      "645/645 [==============================] - ETA: 0s - loss: 0.2933 - accuracy: 0.8925\n",
      "Epoch 63: val_accuracy did not improve from 0.84296\n",
      "645/645 [==============================] - 116s 180ms/step - loss: 0.2933 - accuracy: 0.8925 - val_loss: 0.4529 - val_accuracy: 0.8366\n",
      "Epoch 64/70\n",
      "645/645 [==============================] - ETA: 0s - loss: 0.2928 - accuracy: 0.8921\n",
      "Epoch 64: val_accuracy improved from 0.84296 to 0.84369, saving model to best_model1.hdf5\n",
      "645/645 [==============================] - 107s 166ms/step - loss: 0.2928 - accuracy: 0.8921 - val_loss: 0.4444 - val_accuracy: 0.8437\n",
      "Epoch 65/70\n",
      "645/645 [==============================] - ETA: 0s - loss: 0.2952 - accuracy: 0.8917\n",
      "Epoch 65: val_accuracy did not improve from 0.84369\n",
      "645/645 [==============================] - 104s 161ms/step - loss: 0.2952 - accuracy: 0.8917 - val_loss: 0.4446 - val_accuracy: 0.8431\n",
      "Epoch 66/70\n",
      "645/645 [==============================] - ETA: 0s - loss: 0.2904 - accuracy: 0.8930\n",
      "Epoch 66: val_accuracy did not improve from 0.84369\n",
      "645/645 [==============================] - 96s 149ms/step - loss: 0.2904 - accuracy: 0.8930 - val_loss: 0.4430 - val_accuracy: 0.8411\n",
      "Epoch 67/70\n",
      "645/645 [==============================] - ETA: 0s - loss: 0.2920 - accuracy: 0.8932\n",
      "Epoch 67: val_accuracy did not improve from 0.84369\n",
      "645/645 [==============================] - 90s 140ms/step - loss: 0.2920 - accuracy: 0.8932 - val_loss: 0.4467 - val_accuracy: 0.8392\n",
      "Epoch 68/70\n",
      "645/645 [==============================] - ETA: 0s - loss: 0.2883 - accuracy: 0.8957\n",
      "Epoch 68: val_accuracy did not improve from 0.84369\n",
      "645/645 [==============================] - 90s 140ms/step - loss: 0.2883 - accuracy: 0.8957 - val_loss: 0.4395 - val_accuracy: 0.8386\n",
      "Epoch 69/70\n",
      "645/645 [==============================] - ETA: 0s - loss: 0.2895 - accuracy: 0.8965\n",
      "Epoch 69: val_accuracy did not improve from 0.84369\n",
      "645/645 [==============================] - 74s 115ms/step - loss: 0.2895 - accuracy: 0.8965 - val_loss: 0.4483 - val_accuracy: 0.8364\n",
      "Epoch 70/70\n",
      "645/645 [==============================] - ETA: 0s - loss: 0.2885 - accuracy: 0.8950\n",
      "Epoch 70: val_accuracy did not improve from 0.84369\n",
      "645/645 [==============================] - 76s 118ms/step - loss: 0.2885 - accuracy: 0.8950 - val_loss: 0.4437 - val_accuracy: 0.8390\n"
     ]
    }
   ],
   "source": [
    "model1 = Sequential()\n",
    "model1.add(layers.Embedding(max_words, 20))\n",
    "model1.add(layers.LSTM(15,dropout=0.5))\n",
    "model1.add(layers.Dense(3,activation='softmax'))\n",
    "\n",
    "\n",
    "model1.compile(optimizer='rmsprop',loss='categorical_crossentropy', metrics=['accuracy'])\n",
    "#Implementing model checkpoins to save the best metric and do not lose it on training.\n",
    "checkpoint1 = ModelCheckpoint(\"best_model1.hdf5\", monitor='val_accuracy', verbose=1,save_best_only=True, mode='auto', period=1,save_weights_only=False)\n",
    "history = model1.fit(X_train, y_train, epochs=70,validation_data=(X_test, y_test),callbacks=[checkpoint1])"
   ]
  },
  {
   "cell_type": "code",
   "execution_count": 27,
   "id": "50fb264e",
   "metadata": {},
   "outputs": [
    {
     "name": "stdout",
     "output_type": "stream",
     "text": [
      "WARNING:tensorflow:`period` argument is deprecated. Please use `save_freq` to specify the frequency in number of batches seen.\n",
      "Epoch 1/70\n",
      "645/645 [==============================] - ETA: 0s - loss: 0.7923 - accuracy: 0.6524\n",
      "Epoch 1: val_accuracy improved from -inf to 0.76568, saving model to best_model2.hdf5\n",
      "645/645 [==============================] - 173s 254ms/step - loss: 0.7923 - accuracy: 0.6524 - val_loss: 0.6140 - val_accuracy: 0.7657\n",
      "Epoch 2/70\n",
      "645/645 [==============================] - ETA: 0s - loss: 0.5606 - accuracy: 0.7754\n",
      "Epoch 2: val_accuracy did not improve from 0.76568\n",
      "645/645 [==============================] - 165s 255ms/step - loss: 0.5606 - accuracy: 0.7754 - val_loss: 0.5583 - val_accuracy: 0.7635\n",
      "Epoch 3/70\n",
      "645/645 [==============================] - ETA: 0s - loss: 0.4956 - accuracy: 0.8081\n",
      "Epoch 3: val_accuracy improved from 0.76568 to 0.80629, saving model to best_model2.hdf5\n",
      "645/645 [==============================] - 220s 341ms/step - loss: 0.4956 - accuracy: 0.8081 - val_loss: 0.4891 - val_accuracy: 0.8063\n",
      "Epoch 4/70\n",
      "645/645 [==============================] - ETA: 0s - loss: 0.4657 - accuracy: 0.8203\n",
      "Epoch 4: val_accuracy improved from 0.80629 to 0.81240, saving model to best_model2.hdf5\n",
      "645/645 [==============================] - 226s 350ms/step - loss: 0.4657 - accuracy: 0.8203 - val_loss: 0.4803 - val_accuracy: 0.8124\n",
      "Epoch 5/70\n",
      "645/645 [==============================] - ETA: 0s - loss: 0.4443 - accuracy: 0.8299\n",
      "Epoch 5: val_accuracy improved from 0.81240 to 0.82346, saving model to best_model2.hdf5\n",
      "645/645 [==============================] - 213s 330ms/step - loss: 0.4443 - accuracy: 0.8299 - val_loss: 0.4644 - val_accuracy: 0.8235\n",
      "Epoch 6/70\n",
      "645/645 [==============================] - ETA: 0s - loss: 0.4295 - accuracy: 0.8377\n",
      "Epoch 6: val_accuracy did not improve from 0.82346\n",
      "645/645 [==============================] - 229s 354ms/step - loss: 0.4295 - accuracy: 0.8377 - val_loss: 0.4635 - val_accuracy: 0.8229\n",
      "Epoch 7/70\n",
      "645/645 [==============================] - ETA: 0s - loss: 0.4181 - accuracy: 0.8418\n",
      "Epoch 7: val_accuracy did not improve from 0.82346\n",
      "645/645 [==============================] - 228s 354ms/step - loss: 0.4181 - accuracy: 0.8418 - val_loss: 0.4520 - val_accuracy: 0.8233\n",
      "Epoch 8/70\n",
      "645/645 [==============================] - ETA: 0s - loss: 0.4097 - accuracy: 0.8461\n",
      "Epoch 8: val_accuracy improved from 0.82346 to 0.82768, saving model to best_model2.hdf5\n",
      "645/645 [==============================] - 187s 291ms/step - loss: 0.4097 - accuracy: 0.8461 - val_loss: 0.4445 - val_accuracy: 0.8277\n",
      "Epoch 9/70\n",
      "645/645 [==============================] - ETA: 0s - loss: 0.3963 - accuracy: 0.8508\n",
      "Epoch 9: val_accuracy improved from 0.82768 to 0.82986, saving model to best_model2.hdf5\n",
      "645/645 [==============================] - 186s 289ms/step - loss: 0.3963 - accuracy: 0.8508 - val_loss: 0.4403 - val_accuracy: 0.8299\n",
      "Epoch 10/70\n",
      "645/645 [==============================] - ETA: 0s - loss: 0.3907 - accuracy: 0.8528\n",
      "Epoch 10: val_accuracy improved from 0.82986 to 0.83045, saving model to best_model2.hdf5\n",
      "645/645 [==============================] - 226s 351ms/step - loss: 0.3907 - accuracy: 0.8528 - val_loss: 0.4406 - val_accuracy: 0.8304\n",
      "Epoch 11/70\n",
      "645/645 [==============================] - ETA: 0s - loss: 0.3813 - accuracy: 0.8559\n",
      "Epoch 11: val_accuracy improved from 0.83045 to 0.83190, saving model to best_model2.hdf5\n",
      "645/645 [==============================] - 218s 338ms/step - loss: 0.3813 - accuracy: 0.8559 - val_loss: 0.4341 - val_accuracy: 0.8319\n",
      "Epoch 12/70\n",
      "645/645 [==============================] - ETA: 0s - loss: 0.3791 - accuracy: 0.8584\n",
      "Epoch 12: val_accuracy improved from 0.83190 to 0.83336, saving model to best_model2.hdf5\n",
      "645/645 [==============================] - 229s 355ms/step - loss: 0.3791 - accuracy: 0.8584 - val_loss: 0.4307 - val_accuracy: 0.8334\n",
      "Epoch 13/70\n",
      "645/645 [==============================] - ETA: 0s - loss: 0.3696 - accuracy: 0.8618\n",
      "Epoch 13: val_accuracy did not improve from 0.83336\n",
      "645/645 [==============================] - 215s 333ms/step - loss: 0.3696 - accuracy: 0.8618 - val_loss: 0.4357 - val_accuracy: 0.8325\n",
      "Epoch 14/70\n",
      "645/645 [==============================] - ETA: 0s - loss: 0.3664 - accuracy: 0.8656\n",
      "Epoch 14: val_accuracy improved from 0.83336 to 0.83452, saving model to best_model2.hdf5\n",
      "645/645 [==============================] - 197s 305ms/step - loss: 0.3664 - accuracy: 0.8656 - val_loss: 0.4281 - val_accuracy: 0.8345\n",
      "Epoch 15/70\n",
      "645/645 [==============================] - ETA: 0s - loss: 0.3615 - accuracy: 0.8653\n",
      "Epoch 15: val_accuracy improved from 0.83452 to 0.83496, saving model to best_model2.hdf5\n",
      "645/645 [==============================] - 227s 352ms/step - loss: 0.3615 - accuracy: 0.8653 - val_loss: 0.4294 - val_accuracy: 0.8350\n",
      "Epoch 16/70\n",
      "645/645 [==============================] - ETA: 0s - loss: 0.3558 - accuracy: 0.8689\n",
      "Epoch 16: val_accuracy did not improve from 0.83496\n",
      "645/645 [==============================] - 197s 306ms/step - loss: 0.3558 - accuracy: 0.8689 - val_loss: 0.4338 - val_accuracy: 0.8347\n",
      "Epoch 17/70\n",
      "645/645 [==============================] - ETA: 0s - loss: 0.3534 - accuracy: 0.8681\n",
      "Epoch 17: val_accuracy improved from 0.83496 to 0.83627, saving model to best_model2.hdf5\n",
      "645/645 [==============================] - 222s 344ms/step - loss: 0.3534 - accuracy: 0.8681 - val_loss: 0.4280 - val_accuracy: 0.8363\n",
      "Epoch 18/70\n",
      "645/645 [==============================] - ETA: 0s - loss: 0.3489 - accuracy: 0.8689\n",
      "Epoch 18: val_accuracy improved from 0.83627 to 0.83816, saving model to best_model2.hdf5\n",
      "645/645 [==============================] - 173s 268ms/step - loss: 0.3489 - accuracy: 0.8689 - val_loss: 0.4274 - val_accuracy: 0.8382\n",
      "Epoch 19/70\n",
      "645/645 [==============================] - ETA: 0s - loss: 0.3437 - accuracy: 0.8744\n",
      "Epoch 19: val_accuracy did not improve from 0.83816\n",
      "645/645 [==============================] - 205s 318ms/step - loss: 0.3437 - accuracy: 0.8744 - val_loss: 0.4236 - val_accuracy: 0.8374\n",
      "Epoch 20/70\n",
      "645/645 [==============================] - ETA: 0s - loss: 0.3444 - accuracy: 0.8742\n",
      "Epoch 20: val_accuracy improved from 0.83816 to 0.83947, saving model to best_model2.hdf5\n",
      "645/645 [==============================] - 201s 312ms/step - loss: 0.3444 - accuracy: 0.8742 - val_loss: 0.4262 - val_accuracy: 0.8395\n",
      "Epoch 21/70\n",
      "645/645 [==============================] - ETA: 0s - loss: 0.3405 - accuracy: 0.8749\n",
      "Epoch 21: val_accuracy did not improve from 0.83947\n",
      "645/645 [==============================] - 244s 378ms/step - loss: 0.3405 - accuracy: 0.8749 - val_loss: 0.4232 - val_accuracy: 0.8389\n",
      "Epoch 22/70\n",
      "645/645 [==============================] - ETA: 0s - loss: 0.3352 - accuracy: 0.8762\n",
      "Epoch 22: val_accuracy improved from 0.83947 to 0.84078, saving model to best_model2.hdf5\n",
      "645/645 [==============================] - 206s 319ms/step - loss: 0.3352 - accuracy: 0.8762 - val_loss: 0.4329 - val_accuracy: 0.8408\n",
      "Epoch 23/70\n",
      "645/645 [==============================] - ETA: 0s - loss: 0.3371 - accuracy: 0.8764\n",
      "Epoch 23: val_accuracy did not improve from 0.84078\n",
      "645/645 [==============================] - 196s 303ms/step - loss: 0.3371 - accuracy: 0.8764 - val_loss: 0.4235 - val_accuracy: 0.8398\n",
      "Epoch 24/70\n",
      "645/645 [==============================] - ETA: 0s - loss: 0.3324 - accuracy: 0.8770\n",
      "Epoch 24: val_accuracy did not improve from 0.84078\n",
      "645/645 [==============================] - 224s 348ms/step - loss: 0.3324 - accuracy: 0.8770 - val_loss: 0.4236 - val_accuracy: 0.8401\n",
      "Epoch 25/70\n",
      "645/645 [==============================] - ETA: 0s - loss: 0.3297 - accuracy: 0.8787\n",
      "Epoch 25: val_accuracy did not improve from 0.84078\n",
      "645/645 [==============================] - 234s 363ms/step - loss: 0.3297 - accuracy: 0.8787 - val_loss: 0.4282 - val_accuracy: 0.8371\n",
      "Epoch 26/70\n",
      "645/645 [==============================] - ETA: 0s - loss: 0.3308 - accuracy: 0.8789\n",
      "Epoch 26: val_accuracy did not improve from 0.84078\n",
      "645/645 [==============================] - 193s 299ms/step - loss: 0.3308 - accuracy: 0.8789 - val_loss: 0.4223 - val_accuracy: 0.8382\n",
      "Epoch 27/70\n",
      "645/645 [==============================] - ETA: 0s - loss: 0.3270 - accuracy: 0.8787\n",
      "Epoch 27: val_accuracy did not improve from 0.84078\n"
     ]
    },
    {
     "name": "stdout",
     "output_type": "stream",
     "text": [
      "645/645 [==============================] - 180s 280ms/step - loss: 0.3270 - accuracy: 0.8787 - val_loss: 0.4237 - val_accuracy: 0.8396\n",
      "Epoch 28/70\n",
      "645/645 [==============================] - ETA: 0s - loss: 0.3264 - accuracy: 0.8787\n",
      "Epoch 28: val_accuracy did not improve from 0.84078\n",
      "645/645 [==============================] - 220s 341ms/step - loss: 0.3264 - accuracy: 0.8787 - val_loss: 0.4225 - val_accuracy: 0.8398\n",
      "Epoch 29/70\n",
      "645/645 [==============================] - ETA: 0s - loss: 0.3239 - accuracy: 0.8826\n",
      "Epoch 29: val_accuracy did not improve from 0.84078\n",
      "645/645 [==============================] - 155s 240ms/step - loss: 0.3239 - accuracy: 0.8826 - val_loss: 0.4245 - val_accuracy: 0.8393\n",
      "Epoch 30/70\n",
      "645/645 [==============================] - ETA: 0s - loss: 0.3209 - accuracy: 0.8819\n",
      "Epoch 30: val_accuracy did not improve from 0.84078\n",
      "645/645 [==============================] - 149s 230ms/step - loss: 0.3209 - accuracy: 0.8819 - val_loss: 0.4251 - val_accuracy: 0.8398\n",
      "Epoch 31/70\n",
      "645/645 [==============================] - ETA: 0s - loss: 0.3189 - accuracy: 0.8836\n",
      "Epoch 31: val_accuracy did not improve from 0.84078\n",
      "645/645 [==============================] - 145s 225ms/step - loss: 0.3189 - accuracy: 0.8836 - val_loss: 0.4301 - val_accuracy: 0.8363\n",
      "Epoch 32/70\n",
      "645/645 [==============================] - ETA: 0s - loss: 0.3176 - accuracy: 0.8850\n",
      "Epoch 32: val_accuracy improved from 0.84078 to 0.84122, saving model to best_model2.hdf5\n",
      "645/645 [==============================] - 143s 221ms/step - loss: 0.3176 - accuracy: 0.8850 - val_loss: 0.4238 - val_accuracy: 0.8412\n",
      "Epoch 33/70\n",
      "645/645 [==============================] - ETA: 0s - loss: 0.3138 - accuracy: 0.8868\n",
      "Epoch 33: val_accuracy did not improve from 0.84122\n",
      "645/645 [==============================] - 106s 163ms/step - loss: 0.3138 - accuracy: 0.8868 - val_loss: 0.4216 - val_accuracy: 0.8399\n",
      "Epoch 34/70\n",
      "645/645 [==============================] - ETA: 0s - loss: 0.3104 - accuracy: 0.8890\n",
      "Epoch 34: val_accuracy did not improve from 0.84122\n",
      "645/645 [==============================] - 132s 204ms/step - loss: 0.3104 - accuracy: 0.8890 - val_loss: 0.4264 - val_accuracy: 0.8390\n",
      "Epoch 35/70\n",
      "645/645 [==============================] - ETA: 0s - loss: 0.3134 - accuracy: 0.8851\n",
      "Epoch 35: val_accuracy did not improve from 0.84122\n",
      "645/645 [==============================] - 66s 103ms/step - loss: 0.3134 - accuracy: 0.8851 - val_loss: 0.4251 - val_accuracy: 0.8409\n",
      "Epoch 36/70\n",
      "645/645 [==============================] - ETA: 0s - loss: 0.3118 - accuracy: 0.8890\n",
      "Epoch 36: val_accuracy improved from 0.84122 to 0.84209, saving model to best_model2.hdf5\n",
      "645/645 [==============================] - 60s 93ms/step - loss: 0.3118 - accuracy: 0.8890 - val_loss: 0.4257 - val_accuracy: 0.8421\n",
      "Epoch 37/70\n",
      "645/645 [==============================] - ETA: 0s - loss: 0.3107 - accuracy: 0.8876\n",
      "Epoch 37: val_accuracy did not improve from 0.84209\n",
      "645/645 [==============================] - 79s 122ms/step - loss: 0.3107 - accuracy: 0.8876 - val_loss: 0.4293 - val_accuracy: 0.8399\n",
      "Epoch 38/70\n",
      "645/645 [==============================] - ETA: 0s - loss: 0.3078 - accuracy: 0.8875\n",
      "Epoch 38: val_accuracy did not improve from 0.84209\n",
      "645/645 [==============================] - 80s 124ms/step - loss: 0.3078 - accuracy: 0.8875 - val_loss: 0.4299 - val_accuracy: 0.8415\n",
      "Epoch 39/70\n",
      "645/645 [==============================] - ETA: 0s - loss: 0.3058 - accuracy: 0.8889\n",
      "Epoch 39: val_accuracy did not improve from 0.84209\n",
      "645/645 [==============================] - 80s 123ms/step - loss: 0.3058 - accuracy: 0.8889 - val_loss: 0.4353 - val_accuracy: 0.8369\n",
      "Epoch 40/70\n",
      "645/645 [==============================] - ETA: 0s - loss: 0.2980 - accuracy: 0.8909\n",
      "Epoch 40: val_accuracy did not improve from 0.84209\n",
      "645/645 [==============================] - 88s 137ms/step - loss: 0.2980 - accuracy: 0.8909 - val_loss: 0.4261 - val_accuracy: 0.8398\n",
      "Epoch 41/70\n",
      "645/645 [==============================] - ETA: 0s - loss: 0.3031 - accuracy: 0.8911\n",
      "Epoch 41: val_accuracy did not improve from 0.84209\n",
      "645/645 [==============================] - 82s 127ms/step - loss: 0.3031 - accuracy: 0.8911 - val_loss: 0.4318 - val_accuracy: 0.8396\n",
      "Epoch 42/70\n",
      "645/645 [==============================] - ETA: 0s - loss: 0.2991 - accuracy: 0.8920\n",
      "Epoch 42: val_accuracy did not improve from 0.84209\n",
      "645/645 [==============================] - 77s 119ms/step - loss: 0.2991 - accuracy: 0.8920 - val_loss: 0.4367 - val_accuracy: 0.8386\n",
      "Epoch 43/70\n",
      "645/645 [==============================] - ETA: 0s - loss: 0.2974 - accuracy: 0.8914\n",
      "Epoch 43: val_accuracy did not improve from 0.84209\n",
      "645/645 [==============================] - 89s 137ms/step - loss: 0.2974 - accuracy: 0.8914 - val_loss: 0.4338 - val_accuracy: 0.8408\n",
      "Epoch 44/70\n",
      "645/645 [==============================] - ETA: 0s - loss: 0.2973 - accuracy: 0.8928\n",
      "Epoch 44: val_accuracy did not improve from 0.84209\n",
      "645/645 [==============================] - 90s 139ms/step - loss: 0.2973 - accuracy: 0.8928 - val_loss: 0.4503 - val_accuracy: 0.8367\n",
      "Epoch 45/70\n",
      "645/645 [==============================] - ETA: 0s - loss: 0.2938 - accuracy: 0.8939\n",
      "Epoch 45: val_accuracy did not improve from 0.84209\n",
      "645/645 [==============================] - 106s 164ms/step - loss: 0.2938 - accuracy: 0.8939 - val_loss: 0.4343 - val_accuracy: 0.8376\n",
      "Epoch 46/70\n",
      "645/645 [==============================] - ETA: 0s - loss: 0.2933 - accuracy: 0.8948\n",
      "Epoch 46: val_accuracy did not improve from 0.84209\n",
      "645/645 [==============================] - 78s 120ms/step - loss: 0.2933 - accuracy: 0.8948 - val_loss: 0.4366 - val_accuracy: 0.8411\n",
      "Epoch 47/70\n",
      "645/645 [==============================] - ETA: 0s - loss: 0.2933 - accuracy: 0.8937\n",
      "Epoch 47: val_accuracy did not improve from 0.84209\n",
      "645/645 [==============================] - 85s 132ms/step - loss: 0.2933 - accuracy: 0.8937 - val_loss: 0.4287 - val_accuracy: 0.8398\n",
      "Epoch 48/70\n",
      "645/645 [==============================] - ETA: 0s - loss: 0.2912 - accuracy: 0.8947\n",
      "Epoch 48: val_accuracy did not improve from 0.84209\n",
      "645/645 [==============================] - 86s 134ms/step - loss: 0.2912 - accuracy: 0.8947 - val_loss: 0.4318 - val_accuracy: 0.8387\n",
      "Epoch 49/70\n",
      "645/645 [==============================] - ETA: 0s - loss: 0.2914 - accuracy: 0.8975\n",
      "Epoch 49: val_accuracy did not improve from 0.84209\n",
      "645/645 [==============================] - 89s 137ms/step - loss: 0.2914 - accuracy: 0.8975 - val_loss: 0.4418 - val_accuracy: 0.8411\n",
      "Epoch 50/70\n",
      "645/645 [==============================] - ETA: 0s - loss: 0.2901 - accuracy: 0.8952\n",
      "Epoch 50: val_accuracy did not improve from 0.84209\n",
      "645/645 [==============================] - 79s 123ms/step - loss: 0.2901 - accuracy: 0.8952 - val_loss: 0.4344 - val_accuracy: 0.8398\n",
      "Epoch 51/70\n",
      "645/645 [==============================] - ETA: 0s - loss: 0.2862 - accuracy: 0.8977\n",
      "Epoch 51: val_accuracy did not improve from 0.84209\n",
      "645/645 [==============================] - 92s 143ms/step - loss: 0.2862 - accuracy: 0.8977 - val_loss: 0.4382 - val_accuracy: 0.8403\n",
      "Epoch 52/70\n",
      "645/645 [==============================] - ETA: 0s - loss: 0.2827 - accuracy: 0.8973\n",
      "Epoch 52: val_accuracy did not improve from 0.84209\n",
      "645/645 [==============================] - 96s 149ms/step - loss: 0.2827 - accuracy: 0.8973 - val_loss: 0.4476 - val_accuracy: 0.8402\n",
      "Epoch 53/70\n",
      "645/645 [==============================] - ETA: 0s - loss: 0.2835 - accuracy: 0.8982\n",
      "Epoch 53: val_accuracy did not improve from 0.84209\n",
      "645/645 [==============================] - 83s 129ms/step - loss: 0.2835 - accuracy: 0.8982 - val_loss: 0.4493 - val_accuracy: 0.8411\n",
      "Epoch 54/70\n",
      "645/645 [==============================] - ETA: 0s - loss: 0.2813 - accuracy: 0.8987\n",
      "Epoch 54: val_accuracy did not improve from 0.84209\n",
      "645/645 [==============================] - 89s 138ms/step - loss: 0.2813 - accuracy: 0.8987 - val_loss: 0.4444 - val_accuracy: 0.8412\n",
      "Epoch 55/70\n",
      "645/645 [==============================] - ETA: 0s - loss: 0.2843 - accuracy: 0.8984\n",
      "Epoch 55: val_accuracy did not improve from 0.84209\n",
      "645/645 [==============================] - 79s 122ms/step - loss: 0.2843 - accuracy: 0.8984 - val_loss: 0.4432 - val_accuracy: 0.8376\n",
      "Epoch 56/70\n"
     ]
    },
    {
     "name": "stdout",
     "output_type": "stream",
     "text": [
      "645/645 [==============================] - ETA: 0s - loss: 0.2836 - accuracy: 0.8969\n",
      "Epoch 56: val_accuracy improved from 0.84209 to 0.84398, saving model to best_model2.hdf5\n",
      "645/645 [==============================] - 83s 129ms/step - loss: 0.2836 - accuracy: 0.8969 - val_loss: 0.4392 - val_accuracy: 0.8440\n",
      "Epoch 57/70\n",
      "645/645 [==============================] - ETA: 0s - loss: 0.2815 - accuracy: 0.8983\n",
      "Epoch 57: val_accuracy did not improve from 0.84398\n",
      "645/645 [==============================] - 84s 130ms/step - loss: 0.2815 - accuracy: 0.8983 - val_loss: 0.4456 - val_accuracy: 0.8415\n",
      "Epoch 58/70\n",
      "645/645 [==============================] - ETA: 0s - loss: 0.2756 - accuracy: 0.9014\n",
      "Epoch 58: val_accuracy did not improve from 0.84398\n",
      "645/645 [==============================] - 83s 129ms/step - loss: 0.2756 - accuracy: 0.9014 - val_loss: 0.4561 - val_accuracy: 0.8430\n",
      "Epoch 59/70\n",
      "645/645 [==============================] - ETA: 0s - loss: 0.2805 - accuracy: 0.9003\n",
      "Epoch 59: val_accuracy did not improve from 0.84398\n",
      "645/645 [==============================] - 85s 132ms/step - loss: 0.2805 - accuracy: 0.9003 - val_loss: 0.4434 - val_accuracy: 0.8408\n",
      "Epoch 60/70\n",
      "645/645 [==============================] - ETA: 0s - loss: 0.2778 - accuracy: 0.9002\n",
      "Epoch 60: val_accuracy did not improve from 0.84398\n",
      "645/645 [==============================] - 96s 149ms/step - loss: 0.2778 - accuracy: 0.9002 - val_loss: 0.4511 - val_accuracy: 0.8427\n",
      "Epoch 61/70\n",
      "645/645 [==============================] - ETA: 0s - loss: 0.2781 - accuracy: 0.9010\n",
      "Epoch 61: val_accuracy did not improve from 0.84398\n",
      "645/645 [==============================] - 78s 120ms/step - loss: 0.2781 - accuracy: 0.9010 - val_loss: 0.4499 - val_accuracy: 0.8403\n",
      "Epoch 62/70\n",
      "645/645 [==============================] - ETA: 0s - loss: 0.2720 - accuracy: 0.9003\n",
      "Epoch 62: val_accuracy improved from 0.84398 to 0.84456, saving model to best_model2.hdf5\n",
      "645/645 [==============================] - 94s 146ms/step - loss: 0.2720 - accuracy: 0.9003 - val_loss: 0.4567 - val_accuracy: 0.8446\n",
      "Epoch 63/70\n",
      "645/645 [==============================] - ETA: 0s - loss: 0.2733 - accuracy: 0.9019\n",
      "Epoch 63: val_accuracy did not improve from 0.84456\n",
      "645/645 [==============================] - 84s 130ms/step - loss: 0.2733 - accuracy: 0.9019 - val_loss: 0.4495 - val_accuracy: 0.8389\n",
      "Epoch 64/70\n",
      "645/645 [==============================] - ETA: 0s - loss: 0.2703 - accuracy: 0.9035\n",
      "Epoch 64: val_accuracy did not improve from 0.84456\n",
      "645/645 [==============================] - 95s 148ms/step - loss: 0.2703 - accuracy: 0.9035 - val_loss: 0.4505 - val_accuracy: 0.8408\n",
      "Epoch 65/70\n",
      "645/645 [==============================] - ETA: 0s - loss: 0.2684 - accuracy: 0.9052\n",
      "Epoch 65: val_accuracy did not improve from 0.84456\n",
      "645/645 [==============================] - 78s 121ms/step - loss: 0.2684 - accuracy: 0.9052 - val_loss: 0.4497 - val_accuracy: 0.8405\n",
      "Epoch 66/70\n",
      "645/645 [==============================] - ETA: 0s - loss: 0.2687 - accuracy: 0.9033\n",
      "Epoch 66: val_accuracy did not improve from 0.84456\n",
      "645/645 [==============================] - 77s 119ms/step - loss: 0.2687 - accuracy: 0.9033 - val_loss: 0.4464 - val_accuracy: 0.8415\n",
      "Epoch 67/70\n",
      "645/645 [==============================] - ETA: 0s - loss: 0.2688 - accuracy: 0.9028\n",
      "Epoch 67: val_accuracy did not improve from 0.84456\n",
      "645/645 [==============================] - 79s 123ms/step - loss: 0.2688 - accuracy: 0.9028 - val_loss: 0.4529 - val_accuracy: 0.8409\n",
      "Epoch 68/70\n",
      "645/645 [==============================] - ETA: 0s - loss: 0.2703 - accuracy: 0.9040\n",
      "Epoch 68: val_accuracy did not improve from 0.84456\n",
      "645/645 [==============================] - 79s 122ms/step - loss: 0.2703 - accuracy: 0.9040 - val_loss: 0.4541 - val_accuracy: 0.8399\n",
      "Epoch 69/70\n",
      "645/645 [==============================] - ETA: 0s - loss: 0.2695 - accuracy: 0.9048\n",
      "Epoch 69: val_accuracy did not improve from 0.84456\n",
      "645/645 [==============================] - 89s 138ms/step - loss: 0.2695 - accuracy: 0.9048 - val_loss: 0.4540 - val_accuracy: 0.8415\n",
      "Epoch 70/70\n",
      "645/645 [==============================] - ETA: 0s - loss: 0.2655 - accuracy: 0.9045\n",
      "Epoch 70: val_accuracy did not improve from 0.84456\n",
      "645/645 [==============================] - 85s 132ms/step - loss: 0.2655 - accuracy: 0.9045 - val_loss: 0.4501 - val_accuracy: 0.8430\n"
     ]
    }
   ],
   "source": [
    "model2 = Sequential()\n",
    "model2.add(layers.Embedding(max_words, 40, input_length=max_len))\n",
    "model2.add(layers.Bidirectional(layers.LSTM(20,dropout=0.6)))\n",
    "model2.add(layers.Dense(3,activation='softmax'))\n",
    "model2.compile(optimizer='rmsprop',loss='categorical_crossentropy', metrics=['accuracy'])\n",
    "#Implementing model checkpoins to save the best metric and do not lose it on training.\n",
    "checkpoint2 = ModelCheckpoint(\"best_model2.hdf5\", monitor='val_accuracy', verbose=1,save_best_only=True, mode='auto', period=1,save_weights_only=False)\n",
    "history = model2.fit(X_train, y_train, epochs=70,validation_data=(X_test, y_test),callbacks=[checkpoint2])"
   ]
  },
  {
   "cell_type": "code",
   "execution_count": 28,
   "id": "987e2417",
   "metadata": {},
   "outputs": [],
   "source": [
    "#Let's load the best model obtained during training\n",
    "best_model = keras.models.load_model(\"best_model2.hdf5\")"
   ]
  },
  {
   "cell_type": "code",
   "execution_count": 29,
   "id": "423dacdc",
   "metadata": {},
   "outputs": [
    {
     "name": "stdout",
     "output_type": "stream",
     "text": [
      "215/215 - 7s - loss: 0.4567 - accuracy: 0.8446 - 7s/epoch - 31ms/step\n",
      "Model accuracy:  0.8445640802383423\n"
     ]
    }
   ],
   "source": [
    "test_loss, test_acc = best_model.evaluate(X_test, y_test, verbose=2)\n",
    "print('Model accuracy: ',test_acc)"
   ]
  },
  {
   "cell_type": "code",
   "execution_count": 30,
   "id": "d1a92ee3",
   "metadata": {},
   "outputs": [
    {
     "name": "stdout",
     "output_type": "stream",
     "text": [
      "215/215 [==============================] - 7s 27ms/step\n"
     ]
    }
   ],
   "source": [
    "predictions = best_model.predict(X_test)"
   ]
  },
  {
   "cell_type": "code",
   "execution_count": 31,
   "id": "04f27a0d",
   "metadata": {},
   "outputs": [],
   "source": [
    "from sklearn.metrics import confusion_matrix\n",
    "matrix = confusion_matrix(y_test.argmax(axis=1), np.around(predictions, decimals=0).argmax(axis=1))"
   ]
  },
  {
   "cell_type": "code",
   "execution_count": 32,
   "id": "747976b6",
   "metadata": {},
   "outputs": [
    {
     "data": {
      "text/plain": [
       "<AxesSubplot: >"
      ]
     },
     "execution_count": 32,
     "metadata": {},
     "output_type": "execute_result"
    },
    {
     "data": {
      "image/png": "[encoded data removed]",
      "text/plain": [
       "<Figure size 1500x1500 with 2 Axes>"
      ]
     },
     "metadata": {},
     "output_type": "display_data"
    }
   ],
   "source": [
    "import seaborn as sns\n",
    "conf_matrix = pd.DataFrame(matrix, index = ['Neutral','Negative','Positive'],columns = ['Neutral','Negative','Positive'])\n",
    "#Normalizing\n",
    "conf_matrix = conf_matrix.astype('float') / conf_matrix.sum(axis=1)[:, np.newaxis]\n",
    "plt.figure(figsize = (15,15))\n",
    "sns.heatmap(conf_matrix, annot=True, annot_kws={\"size\": 15})"
   ]
  },
  {
   "cell_type": "code",
   "execution_count": 33,
   "id": "5e917b18",
   "metadata": {},
   "outputs": [],
   "source": [
    "sentiment = ['Neutral','Negative','Positive']"
   ]
  },
  {
   "cell_type": "code",
   "execution_count": 34,
   "id": "a801f272",
   "metadata": {},
   "outputs": [
    {
     "name": "stdout",
     "output_type": "stream",
     "text": [
      "1/1 [==============================] - 0s 47ms/step\n"
     ]
    },
    {
     "data": {
      "text/plain": [
       "'Negative'"
      ]
     },
     "execution_count": 34,
     "metadata": {},
     "output_type": "execute_result"
    }
   ],
   "source": [
    "sequence = tokenizer.texts_to_sequences(['The boy was slow'])\n",
    "test = pad_sequences(sequence, maxlen=max_len)\n",
    "sentiment[np.around(best_model.predict(test), decimals=0).argmax(axis=1)[0]]"
   ]
  },
  {
   "cell_type": "code",
   "execution_count": 35,
   "id": "96c0849e",
   "metadata": {},
   "outputs": [
    {
     "name": "stdout",
     "output_type": "stream",
     "text": [
      "1/1 [==============================] - 0s 52ms/step\n"
     ]
    },
    {
     "data": {
      "text/plain": [
       "'Positive'"
      ]
     },
     "execution_count": 35,
     "metadata": {},
     "output_type": "execute_result"
    }
   ],
   "source": [
    "sequence = tokenizer.texts_to_sequences(['she is excited'])\n",
    "test = pad_sequences(sequence, maxlen=max_len)\n",
    "sentiment[np.around(best_model.predict(test), decimals=0).argmax(axis=1)[0]]"
   ]
  },
  {
   "cell_type": "code",
   "execution_count": 36,
   "id": "72f72c7b",
   "metadata": {},
   "outputs": [],
   "source": [
    "import pyttsx3"
   ]
  },
  {
   "cell_type": "code",
   "execution_count": 37,
   "id": "c84bc3e1",
   "metadata": {},
   "outputs": [],
   "source": [
    "# Initialize the pyttsx3 engine\n",
    "engine = pyttsx3.init()\n",
    "\n",
    "# Set the voice to use\n",
    "voices = engine.getProperty('voices')\n",
    "engine.setProperty('voice', voices[1].id) # use a female voice"
   ]
  },
  {
   "cell_type": "code",
   "execution_count": 43,
   "id": "3f64bcee",
   "metadata": {},
   "outputs": [],
   "source": [
    "def speak_with_emotion(text):\n",
    "    lines = text.split(\".\")\n",
    "    for line in lines:\n",
    "    # Analyze the sentiment of the text\n",
    "        sequence = tokenizer.texts_to_sequences([line])\n",
    "        test = pad_sequences(sequence, maxlen=max_len)\n",
    "        s=sentiment[np.around(best_model.predict(test), decimals=0).argmax(axis=1)[0]]\n",
    "\n",
    "        # Modify the speech parameters based on the sentiment\n",
    "        if s=='Positive':\n",
    "            # Positive sentiment\n",
    "            engine.setProperty('rate', 175) # increase the speed\n",
    "            engine.setProperty('pitch', 215) # increase the pitch\n",
    "        elif s=='Negative':\n",
    "            # Negative sentiment\n",
    "            engine.setProperty('rate', 100) # decrease the speed\n",
    "            engine.setProperty('pitch', 20) # lower the pitch\n",
    "        else:\n",
    "            # Neutral sentiment\n",
    "            engine.setProperty('rate', 125) # default settings\n",
    "            engine.setProperty('pitch', 100)\n",
    "\n",
    "        # Speak the text\n",
    "        engine.say(line)\n",
    "        engine.runAndWait()"
   ]
  },
  {
   "cell_type": "code",
   "execution_count": 46,
   "id": "e63771cf",
   "metadata": {},
   "outputs": [
    {
     "name": "stdout",
     "output_type": "stream",
     "text": [
      "1/1 [==============================] - 0s 21ms/step\n",
      "1/1 [==============================] - 0s 20ms/step\n",
      "1/1 [==============================] - 0s 16ms/step\n"
     ]
    }
   ],
   "source": [
    "text=\"The boy is happy . She is crying . I am angry\"\n",
    "speak_with_emotion(text)"
   ]
  },
  {
   "cell_type": "code",
   "execution_count": 41,
   "id": "153fe1bc",
   "metadata": {},
   "outputs": [
    {
     "name": "stdout",
     "output_type": "stream",
     "text": [
      "Model saved\n",
      "Tokenizer saved\n"
     ]
    }
   ],
   "source": [
    "#Saving weights and tokenizer so we can reduce training time on SageMaker\n",
    "\n",
    "# serialize model to JSON\n",
    "model_json = best_model.to_json()\n",
    "with open(\"model.json\", \"w\") as json_file:\n",
    "    json_file.write(model_json)\n",
    "# serialize weights to HDF5\n",
    "best_model.save_weights(\"model-weights.h5\")\n",
    "print(\"Model saved\")\n",
    "\n",
    "# saving tokenizer\n",
    "with open('tokenizer.pickle', 'wb') as handle:\n",
    "    pickle.dump(tokenizer, handle, protocol=pickle.HIGHEST_PROTOCOL)\n",
    "print('Tokenizer saved')"
   ]
  },
  {
   "cell_type": "code",
   "execution_count": null,
   "id": "73bcc1d6",
   "metadata": {},
   "outputs": [],
   "source": []
  }
 ],
 "metadata": {
  "kernelspec": {
   "display_name": "Python 3 (ipykernel)",
   "language": "python",
   "name": "python3"
  },
  "language_info": {
   "codemirror_mode": {
    "name": "ipython",
    "version": 3
   },
   "file_extension": ".py",
   "mimetype": "text/x-python",
   "name": "python",
   "nbconvert_exporter": "python",
   "pygments_lexer": "ipython3",
   "version": "3.10.8"
  }
 },
 "nbformat": 4,
 "nbformat_minor": 5
}
